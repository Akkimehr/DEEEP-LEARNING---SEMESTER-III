{
  "nbformat": 4,
  "nbformat_minor": 0,
  "metadata": {
    "colab": {
      "name": "Deep Learning Assignment 4.ipynb",
      "provenance": []
    },
    "kernelspec": {
      "name": "python3",
      "display_name": "Python 3"
    },
    "accelerator": "GPU"
  },
  "cells": [
    {
      "cell_type": "markdown",
      "metadata": {
        "id": "piJXmAl6Uaaz",
        "colab_type": "text"
      },
      "source": [
        "***MNIST Normal Implementation - Categorical crossentropy Loss, Adam Optimizer, Accuracy Metrics***"
      ]
    },
    {
      "cell_type": "code",
      "metadata": {
        "id": "qXi6nA9lUYbT",
        "colab_type": "code",
        "colab": {
          "base_uri": "https://localhost:8080/",
          "height": 50
        },
        "outputId": "550b8ce1-bb46-4f9b-d39e-de96e45587a6"
      },
      "source": [
        "from tensorflow.keras.datasets import mnist\n",
        "import matplotlib.pyplot as plt\n",
        "\n",
        "(X_train_mnist, Y_train_mnist), (X_test_mnist, Y_test_mnist) = mnist.load_data()"
      ],
      "execution_count": 1,
      "outputs": [
        {
          "output_type": "stream",
          "text": [
            "Downloading data from https://storage.googleapis.com/tensorflow/tf-keras-datasets/mnist.npz\n",
            "11493376/11490434 [==============================] - 0s 0us/step\n"
          ],
          "name": "stdout"
        }
      ]
    },
    {
      "cell_type": "code",
      "metadata": {
        "id": "VXEPOiouUtwx",
        "colab_type": "code",
        "colab": {
          "base_uri": "https://localhost:8080/",
          "height": 298
        },
        "outputId": "73f74762-8216-4a84-ff2e-58290d36ef16"
      },
      "source": [
        "print(Y_train_mnist[0])\n",
        "plt.imshow(X_train_mnist[0], cmap='gray')"
      ],
      "execution_count": 2,
      "outputs": [
        {
          "output_type": "stream",
          "text": [
            "5\n"
          ],
          "name": "stdout"
        },
        {
          "output_type": "execute_result",
          "data": {
            "text/plain": [
              "<matplotlib.image.AxesImage at 0x7faf38458390>"
            ]
          },
          "metadata": {
            "tags": []
          },
          "execution_count": 2
        },
        {
          "output_type": "display_data",
          "data": {
            "image/png": "[encoded data removed]",
            "text/plain": [
              "<Figure size 432x288 with 1 Axes>"
            ]
          },
          "metadata": {
            "tags": [],
            "needs_background": "light"
          }
        }
      ]
    },
    {
      "cell_type": "code",
      "metadata": {
        "id": "fm05wg0xUx1z",
        "colab_type": "code",
        "colab": {
          "base_uri": "https://localhost:8080/",
          "height": 298
        },
        "outputId": "3fe60339-f8c0-4fe2-c9b7-06e8ba31a131"
      },
      "source": [
        "print(Y_train_mnist[10])\n",
        "plt.imshow(X_train_mnist[10], cmap='gray')"
      ],
      "execution_count": 3,
      "outputs": [
        {
          "output_type": "stream",
          "text": [
            "3\n"
          ],
          "name": "stdout"
        },
        {
          "output_type": "execute_result",
          "data": {
            "text/plain": [
              "<matplotlib.image.AxesImage at 0x7faf383f4518>"
            ]
          },
          "metadata": {
            "tags": []
          },
          "execution_count": 3
        },
        {
          "output_type": "display_data",
          "data": {
            "image/png": "[encoded data removed]",
            "text/plain": [
              "<Figure size 432x288 with 1 Axes>"
            ]
          },
          "metadata": {
            "tags": [],
            "needs_background": "light"
          }
        }
      ]
    },
    {
      "cell_type": "code",
      "metadata": {
        "id": "RKZ5ly1SU12D",
        "colab_type": "code",
        "colab": {
          "base_uri": "https://localhost:8080/",
          "height": 298
        },
        "outputId": "9b5489be-a1b1-43c5-bf3b-6a1f180ddb7c"
      },
      "source": [
        "print(Y_train_mnist[10100])\n",
        "plt.imshow(X_train_mnist[10100], cmap='gray')"
      ],
      "execution_count": 4,
      "outputs": [
        {
          "output_type": "stream",
          "text": [
            "2\n"
          ],
          "name": "stdout"
        },
        {
          "output_type": "execute_result",
          "data": {
            "text/plain": [
              "<matplotlib.image.AxesImage at 0x7faf37f08710>"
            ]
          },
          "metadata": {
            "tags": []
          },
          "execution_count": 4
        },
        {
          "output_type": "display_data",
          "data": {
            "image/png": "[encoded data removed]",
            "text/plain": [
              "<Figure size 432x288 with 1 Axes>"
            ]
          },
          "metadata": {
            "tags": [],
            "needs_background": "light"
          }
        }
      ]
    },
    {
      "cell_type": "code",
      "metadata": {
        "id": "8kSDSJv6Vueq",
        "colab_type": "code",
        "colab": {
          "base_uri": "https://localhost:8080/",
          "height": 33
        },
        "outputId": "cf51eb28-34d5-4b8c-c0cd-df4363717eaa"
      },
      "source": [
        "from tensorflow.keras.utils import to_categorical\n",
        "\n",
        "Y_train_mnist_req = to_categorical(Y_train_mnist)\n",
        "Y_test_mnist_req = to_categorical(Y_test_mnist)\n",
        "\n",
        "print(X_train_mnist.shape, X_test_mnist.shape, Y_train_mnist_req.shape, Y_test_mnist_req.shape)"
      ],
      "execution_count": 5,
      "outputs": [
        {
          "output_type": "stream",
          "text": [
            "(60000, 28, 28) (10000, 28, 28) (60000, 10) (10000, 10)\n"
          ],
          "name": "stdout"
        }
      ]
    },
    {
      "cell_type": "code",
      "metadata": {
        "id": "3jwlnlB0NkWs",
        "colab_type": "code",
        "colab": {}
      },
      "source": [
        "X_train_mnist = X_train_mnist.reshape((X_train_mnist.shape[0], 28, 28, 1))\n",
        "X_test_mnist = X_test_mnist.reshape((X_test_mnist.shape[0], 28, 28, 1))"
      ],
      "execution_count": 6,
      "outputs": []
    },
    {
      "cell_type": "code",
      "metadata": {
        "id": "SXMIh-pBU5T1",
        "colab_type": "code",
        "colab": {}
      },
      "source": [
        "from tensorflow.keras.preprocessing.image import ImageDataGenerator\n",
        "\n",
        "augmentor_mnist = ImageDataGenerator(rotation_range=10, width_shift_range=0.1, height_shift_range=0.1, horizontal_flip=False, vertical_flip=False, validation_split=0.1)\n",
        "\n",
        "train_batch_mnist = augmentor_mnist.flow(X_train_mnist, Y_train_mnist_req, shuffle=True, subset='training')\n",
        "val_batch_mnist = augmentor_mnist.flow(X_train_mnist, Y_train_mnist_req, subset='validation')"
      ],
      "execution_count": 7,
      "outputs": []
    },
    {
      "cell_type": "code",
      "metadata": {
        "id": "p6CQ4ajxYoBP",
        "colab_type": "code",
        "colab": {}
      },
      "source": [
        "from tensorflow.keras.layers import Conv2D, Dense, Flatten, MaxPooling2D, Input, ZeroPadding2D, BatchNormalization, Dropout, ReLU\n",
        "from tensorflow.keras.models import Sequential"
      ],
      "execution_count": 8,
      "outputs": []
    },
    {
      "cell_type": "code",
      "metadata": {
        "id": "6H30UaUHY68U",
        "colab_type": "code",
        "colab": {}
      },
      "source": [
        "model = Sequential()\n",
        "model.add(Input((28, 28, 1)))\n",
        "model.add(ZeroPadding2D((2,2)))\n",
        "\n",
        "model.add(Conv2D(32, (3,3), padding='same', kernel_initializer='glorot_normal', activation='relu'))\n",
        "model.add(BatchNormalization(axis=3))\n",
        "model.add(Conv2D(32, (3,3), padding='same', kernel_initializer='glorot_normal', activation=ReLU(max_value=1000, threshold=0)))\n",
        "model.add(BatchNormalization(axis=3))\n",
        "model.add(Conv2D(32, (5,5), strides=2, padding='same', kernel_initializer='glorot_normal', activation='relu'))\n",
        "model.add(BatchNormalization(axis=3))\n",
        "\n",
        "model.add(Conv2D(64, (3,3), padding='same', kernel_initializer='glorot_normal', activation='relu'))\n",
        "model.add(BatchNormalization(axis=3))\n",
        "model.add(Conv2D(64, (3,3), padding='same', kernel_initializer='glorot_normal', activation=ReLU(max_value=1000, threshold=0)))\n",
        "model.add(BatchNormalization(axis=3))\n",
        "model.add(Conv2D(64, (5,5), strides=2, padding='same', kernel_initializer='glorot_normal', activation='relu'))\n",
        "model.add(BatchNormalization(axis=3))\n",
        "\n",
        "model.add(Conv2D(128, (4,4), padding='same', kernel_initializer='glorot_normal', activation=ReLU(max_value=1000, threshold=0)))\n",
        "model.add(BatchNormalization(axis=3))\n",
        "\n",
        "model.add(Flatten())\n",
        "model.add(BatchNormalization())\n",
        "model.add(Dropout(0.4))\n",
        "model.add(Dense(10, activation='softmax'))"
      ],
      "execution_count": 9,
      "outputs": []
    },
    {
      "cell_type": "code",
      "metadata": {
        "id": "cQynD9p7aFKO",
        "colab_type": "code",
        "colab": {
          "base_uri": "https://localhost:8080/",
          "height": 789
        },
        "outputId": "a5358171-370e-4dfb-d0c8-35adc9bfe912"
      },
      "source": [
        "model.summary()"
      ],
      "execution_count": 10,
      "outputs": [
        {
          "output_type": "stream",
          "text": [
            "Model: \"sequential\"\n",
            "_________________________________________________________________\n",
            "Layer (type)                 Output Shape              Param #   \n",
            "=================================================================\n",
            "zero_padding2d (ZeroPadding2 (None, 32, 32, 1)         0         \n",
            "_________________________________________________________________\n",
            "conv2d (Conv2D)              (None, 32, 32, 32)        320       \n",
            "_________________________________________________________________\n",
            "batch_normalization (BatchNo (None, 32, 32, 32)        128       \n",
            "_________________________________________________________________\n",
            "conv2d_1 (Conv2D)            (None, 32, 32, 32)        9248      \n",
            "_________________________________________________________________\n",
            "batch_normalization_1 (Batch (None, 32, 32, 32)        128       \n",
            "_________________________________________________________________\n",
            "conv2d_2 (Conv2D)            (None, 16, 16, 32)        25632     \n",
            "_________________________________________________________________\n",
            "batch_normalization_2 (Batch (None, 16, 16, 32)        128       \n",
            "_________________________________________________________________\n",
            "conv2d_3 (Conv2D)            (None, 16, 16, 64)        18496     \n",
            "_________________________________________________________________\n",
            "batch_normalization_3 (Batch (None, 16, 16, 64)        256       \n",
            "_________________________________________________________________\n",
            "conv2d_4 (Conv2D)            (None, 16, 16, 64)        36928     \n",
            "_________________________________________________________________\n",
            "batch_normalization_4 (Batch (None, 16, 16, 64)        256       \n",
            "_________________________________________________________________\n",
            "conv2d_5 (Conv2D)            (None, 8, 8, 64)          102464    \n",
            "_________________________________________________________________\n",
            "batch_normalization_5 (Batch (None, 8, 8, 64)          256       \n",
            "_________________________________________________________________\n",
            "conv2d_6 (Conv2D)            (None, 8, 8, 128)         131200    \n",
            "_________________________________________________________________\n",
            "batch_normalization_6 (Batch (None, 8, 8, 128)         512       \n",
            "_________________________________________________________________\n",
            "flatten (Flatten)            (None, 8192)              0         \n",
            "_________________________________________________________________\n",
            "batch_normalization_7 (Batch (None, 8192)              32768     \n",
            "_________________________________________________________________\n",
            "dropout (Dropout)            (None, 8192)              0         \n",
            "_________________________________________________________________\n",
            "dense (Dense)                (None, 10)                81930     \n",
            "=================================================================\n",
            "Total params: 440,650\n",
            "Trainable params: 423,434\n",
            "Non-trainable params: 17,216\n",
            "_________________________________________________________________\n"
          ],
          "name": "stdout"
        }
      ]
    },
    {
      "cell_type": "code",
      "metadata": {
        "id": "poL8sDbraGEg",
        "colab_type": "code",
        "colab": {}
      },
      "source": [
        "from tensorflow.keras.optimizers import SGD\n",
        "\n",
        "opt = SGD(lr=0.001, momentum=0.9)\n",
        "\n",
        "model.compile(loss='categorical_crossentropy', optimizer=opt, metrics=['accuracy'])"
      ],
      "execution_count": 11,
      "outputs": []
    },
    {
      "cell_type": "code",
      "metadata": {
        "id": "9CTCy8puaNGJ",
        "colab_type": "code",
        "colab": {
          "base_uri": "https://localhost:8080/",
          "height": 1000
        },
        "outputId": "e2fb4441-d7eb-41ba-ac36-800f9850589c"
      },
      "source": [
        "history_mnist = model.fit_generator(train_batch_mnist, validation_data=val_batch_mnist, steps_per_epoch=(54000/32), epochs=50)"
      ],
      "execution_count": 12,
      "outputs": [
        {
          "output_type": "stream",
          "text": [
            "WARNING:tensorflow:From <ipython-input-12-59eebd53d102>:1: Model.fit_generator (from tensorflow.python.keras.engine.training) is deprecated and will be removed in a future version.\n",
            "Instructions for updating:\n",
            "Please use Model.fit, which supports generators.\n",
            "Epoch 1/50\n",
            "1688/1687 [==============================] - 22s 13ms/step - loss: 0.2730 - accuracy: 0.9208 - val_loss: 0.1015 - val_accuracy: 0.9735\n",
            "Epoch 2/50\n",
            "1688/1687 [==============================] - 22s 13ms/step - loss: 0.0988 - accuracy: 0.9719 - val_loss: 0.0554 - val_accuracy: 0.9853\n",
            "Epoch 3/50\n",
            "1688/1687 [==============================] - 21s 13ms/step - loss: 0.0827 - accuracy: 0.9772 - val_loss: 0.0621 - val_accuracy: 0.9813\n",
            "Epoch 4/50\n",
            "1688/1687 [==============================] - 21s 13ms/step - loss: 0.0671 - accuracy: 0.9810 - val_loss: 0.0572 - val_accuracy: 0.9825\n",
            "Epoch 5/50\n",
            "1688/1687 [==============================] - 21s 12ms/step - loss: 0.0633 - accuracy: 0.9822 - val_loss: 0.0612 - val_accuracy: 0.9853\n",
            "Epoch 6/50\n",
            "1688/1687 [==============================] - 21s 12ms/step - loss: 0.0564 - accuracy: 0.9849 - val_loss: 0.0420 - val_accuracy: 0.9888\n",
            "Epoch 7/50\n",
            "1688/1687 [==============================] - 21s 12ms/step - loss: 0.0508 - accuracy: 0.9859 - val_loss: 0.0317 - val_accuracy: 0.9905\n",
            "Epoch 8/50\n",
            "1688/1687 [==============================] - 21s 12ms/step - loss: 0.0501 - accuracy: 0.9858 - val_loss: 0.0339 - val_accuracy: 0.9915\n",
            "Epoch 9/50\n",
            "1688/1687 [==============================] - 21s 12ms/step - loss: 0.0487 - accuracy: 0.9866 - val_loss: 0.0344 - val_accuracy: 0.9905\n",
            "Epoch 10/50\n",
            "1688/1687 [==============================] - 20s 12ms/step - loss: 0.0436 - accuracy: 0.9878 - val_loss: 0.0355 - val_accuracy: 0.9903\n",
            "Epoch 11/50\n",
            "1688/1687 [==============================] - 21s 12ms/step - loss: 0.0407 - accuracy: 0.9885 - val_loss: 0.0343 - val_accuracy: 0.9898\n",
            "Epoch 12/50\n",
            "1688/1687 [==============================] - 20s 12ms/step - loss: 0.0402 - accuracy: 0.9890 - val_loss: 0.0351 - val_accuracy: 0.9922\n",
            "Epoch 13/50\n",
            "1688/1687 [==============================] - 20s 12ms/step - loss: 0.0416 - accuracy: 0.9884 - val_loss: 0.0314 - val_accuracy: 0.9922\n",
            "Epoch 14/50\n",
            "1688/1687 [==============================] - 20s 12ms/step - loss: 0.0369 - accuracy: 0.9895 - val_loss: 0.0267 - val_accuracy: 0.9907\n",
            "Epoch 15/50\n",
            "1688/1687 [==============================] - 20s 12ms/step - loss: 0.0339 - accuracy: 0.9899 - val_loss: 0.0237 - val_accuracy: 0.9948\n",
            "Epoch 16/50\n",
            "1688/1687 [==============================] - 20s 12ms/step - loss: 0.0347 - accuracy: 0.9903 - val_loss: 0.0332 - val_accuracy: 0.9913\n",
            "Epoch 17/50\n",
            "1688/1687 [==============================] - 20s 12ms/step - loss: 0.0330 - accuracy: 0.9908 - val_loss: 0.0301 - val_accuracy: 0.9918\n",
            "Epoch 18/50\n",
            "1688/1687 [==============================] - 20s 12ms/step - loss: 0.0308 - accuracy: 0.9919 - val_loss: 0.0304 - val_accuracy: 0.9913\n",
            "Epoch 19/50\n",
            "1688/1687 [==============================] - 20s 12ms/step - loss: 0.0303 - accuracy: 0.9916 - val_loss: 0.0236 - val_accuracy: 0.9923\n",
            "Epoch 20/50\n",
            "1688/1687 [==============================] - 20s 12ms/step - loss: 0.0315 - accuracy: 0.9915 - val_loss: 0.0263 - val_accuracy: 0.9933\n",
            "Epoch 21/50\n",
            "1688/1687 [==============================] - 20s 12ms/step - loss: 0.0295 - accuracy: 0.9919 - val_loss: 0.0296 - val_accuracy: 0.9937\n",
            "Epoch 22/50\n",
            "1688/1687 [==============================] - 20s 12ms/step - loss: 0.0271 - accuracy: 0.9925 - val_loss: 0.0232 - val_accuracy: 0.9945\n",
            "Epoch 23/50\n",
            "1688/1687 [==============================] - 20s 12ms/step - loss: 0.0281 - accuracy: 0.9917 - val_loss: 0.0259 - val_accuracy: 0.9933\n",
            "Epoch 24/50\n",
            "1688/1687 [==============================] - 20s 12ms/step - loss: 0.0247 - accuracy: 0.9927 - val_loss: 0.0309 - val_accuracy: 0.9928\n",
            "Epoch 25/50\n",
            "1688/1687 [==============================] - 20s 12ms/step - loss: 0.0249 - accuracy: 0.9926 - val_loss: 0.0259 - val_accuracy: 0.9935\n",
            "Epoch 26/50\n",
            "1688/1687 [==============================] - 20s 12ms/step - loss: 0.0251 - accuracy: 0.9927 - val_loss: 0.0195 - val_accuracy: 0.9948\n",
            "Epoch 27/50\n",
            "1688/1687 [==============================] - 20s 12ms/step - loss: 0.0239 - accuracy: 0.9933 - val_loss: 0.0237 - val_accuracy: 0.9932\n",
            "Epoch 28/50\n",
            "1688/1687 [==============================] - 20s 12ms/step - loss: 0.0245 - accuracy: 0.9930 - val_loss: 0.0211 - val_accuracy: 0.9940\n",
            "Epoch 29/50\n",
            "1688/1687 [==============================] - 20s 12ms/step - loss: 0.0241 - accuracy: 0.9933 - val_loss: 0.0242 - val_accuracy: 0.9935\n",
            "Epoch 30/50\n",
            "1688/1687 [==============================] - 20s 12ms/step - loss: 0.0250 - accuracy: 0.9928 - val_loss: 0.0280 - val_accuracy: 0.9935\n",
            "Epoch 31/50\n",
            "1688/1687 [==============================] - 20s 12ms/step - loss: 0.0233 - accuracy: 0.9934 - val_loss: 0.0187 - val_accuracy: 0.9943\n",
            "Epoch 32/50\n",
            "1688/1687 [==============================] - 20s 12ms/step - loss: 0.0210 - accuracy: 0.9941 - val_loss: 0.0239 - val_accuracy: 0.9928\n",
            "Epoch 33/50\n",
            "1688/1687 [==============================] - 20s 12ms/step - loss: 0.0213 - accuracy: 0.9943 - val_loss: 0.0254 - val_accuracy: 0.9943\n",
            "Epoch 34/50\n",
            "1688/1687 [==============================] - 20s 12ms/step - loss: 0.0210 - accuracy: 0.9939 - val_loss: 0.0201 - val_accuracy: 0.9937\n",
            "Epoch 35/50\n",
            "1688/1687 [==============================] - 20s 12ms/step - loss: 0.0206 - accuracy: 0.9940 - val_loss: 0.0194 - val_accuracy: 0.9943\n",
            "Epoch 36/50\n",
            "1688/1687 [==============================] - 20s 12ms/step - loss: 0.0218 - accuracy: 0.9938 - val_loss: 0.0289 - val_accuracy: 0.9928\n",
            "Epoch 37/50\n",
            "1688/1687 [==============================] - 20s 12ms/step - loss: 0.0197 - accuracy: 0.9944 - val_loss: 0.0207 - val_accuracy: 0.9955\n",
            "Epoch 38/50\n",
            "1688/1687 [==============================] - 20s 12ms/step - loss: 0.0232 - accuracy: 0.9937 - val_loss: 0.0277 - val_accuracy: 0.9932\n",
            "Epoch 39/50\n",
            "1688/1687 [==============================] - 20s 12ms/step - loss: 0.0199 - accuracy: 0.9943 - val_loss: 0.0219 - val_accuracy: 0.9940\n",
            "Epoch 40/50\n",
            "1688/1687 [==============================] - 20s 12ms/step - loss: 0.0209 - accuracy: 0.9939 - val_loss: 0.0238 - val_accuracy: 0.9947\n",
            "Epoch 41/50\n",
            "1688/1687 [==============================] - 20s 12ms/step - loss: 0.0182 - accuracy: 0.9946 - val_loss: 0.0160 - val_accuracy: 0.9950\n",
            "Epoch 42/50\n",
            "1688/1687 [==============================] - 20s 12ms/step - loss: 0.0189 - accuracy: 0.9944 - val_loss: 0.0221 - val_accuracy: 0.9942\n",
            "Epoch 43/50\n",
            "1688/1687 [==============================] - 20s 12ms/step - loss: 0.0195 - accuracy: 0.9944 - val_loss: 0.0201 - val_accuracy: 0.9958\n",
            "Epoch 44/50\n",
            "1688/1687 [==============================] - 20s 12ms/step - loss: 0.0183 - accuracy: 0.9945 - val_loss: 0.0205 - val_accuracy: 0.9957\n",
            "Epoch 45/50\n",
            "1688/1687 [==============================] - 20s 12ms/step - loss: 0.0179 - accuracy: 0.9948 - val_loss: 0.0223 - val_accuracy: 0.9947\n",
            "Epoch 46/50\n",
            "1688/1687 [==============================] - 20s 12ms/step - loss: 0.0171 - accuracy: 0.9952 - val_loss: 0.0203 - val_accuracy: 0.9948\n",
            "Epoch 47/50\n",
            "1688/1687 [==============================] - 20s 12ms/step - loss: 0.0184 - accuracy: 0.9946 - val_loss: 0.0301 - val_accuracy: 0.9907\n",
            "Epoch 48/50\n",
            "1688/1687 [==============================] - 20s 12ms/step - loss: 0.0192 - accuracy: 0.9943 - val_loss: 0.0252 - val_accuracy: 0.9938\n",
            "Epoch 49/50\n",
            "1688/1687 [==============================] - 20s 12ms/step - loss: 0.0162 - accuracy: 0.9956 - val_loss: 0.0232 - val_accuracy: 0.9947\n",
            "Epoch 50/50\n",
            "1688/1687 [==============================] - 20s 12ms/step - loss: 0.0175 - accuracy: 0.9949 - val_loss: 0.0218 - val_accuracy: 0.9940\n"
          ],
          "name": "stdout"
        }
      ]
    },
    {
      "cell_type": "code",
      "metadata": {
        "id": "xwY98W5Aafto",
        "colab_type": "code",
        "colab": {
          "base_uri": "https://localhost:8080/",
          "height": 265
        },
        "outputId": "ab8a655a-3cf3-42fa-8f4a-10e74bf9f460"
      },
      "source": [
        "plt.plot(history_mnist.history['loss'])\n",
        "plt.plot(history_mnist.history['val_loss'])\n",
        "plt.legend(['Training Loss', 'Validation Loss'], loc='best')\n",
        "plt.show()"
      ],
      "execution_count": 13,
      "outputs": [
        {
          "output_type": "display_data",
          "data": {
            "image/png": "[encoded data removed]",
            "text/plain": [
              "<Figure size 432x288 with 1 Axes>"
            ]
          },
          "metadata": {
            "tags": [],
            "needs_background": "light"
          }
        }
      ]
    },
    {
      "cell_type": "code",
      "metadata": {
        "id": "cilVI4s3atgv",
        "colab_type": "code",
        "colab": {
          "base_uri": "https://localhost:8080/",
          "height": 265
        },
        "outputId": "5b5426d6-d616-47d9-82a5-8ab763e447ad"
      },
      "source": [
        "plt.plot(history_mnist.history['accuracy'])\n",
        "plt.plot(history_mnist.history['val_accuracy'])\n",
        "plt.legend(['Training Accuracy', 'Validation Accuracy'], loc='best')\n",
        "plt.show()"
      ],
      "execution_count": 14,
      "outputs": [
        {
          "output_type": "display_data",
          "data": {
            "image/png": "[encoded data removed]",
            "text/plain": [
              "<Figure size 432x288 with 1 Axes>"
            ]
          },
          "metadata": {
            "tags": [],
            "needs_background": "light"
          }
        }
      ]
    },
    {
      "cell_type": "code",
      "metadata": {
        "id": "80ohDLI6ay9P",
        "colab_type": "code",
        "colab": {
          "base_uri": "https://localhost:8080/",
          "height": 50
        },
        "outputId": "eae1227a-8bd8-4e1f-eceb-a2de0dd5c3ad"
      },
      "source": [
        "model.evaluate(X_test_mnist, Y_test_mnist_req)"
      ],
      "execution_count": 15,
      "outputs": [
        {
          "output_type": "stream",
          "text": [
            "313/313 [==============================] - 1s 4ms/step - loss: 0.0170 - accuracy: 0.9961\n"
          ],
          "name": "stdout"
        },
        {
          "output_type": "execute_result",
          "data": {
            "text/plain": [
              "[0.01698206551373005, 0.9961000084877014]"
            ]
          },
          "metadata": {
            "tags": []
          },
          "execution_count": 15
        }
      ]
    },
    {
      "cell_type": "markdown",
      "metadata": {
        "id": "H9aYD-K3TAFc",
        "colab_type": "text"
      },
      "source": [
        "***Fashion MNIST Normal Implementation - Categorical Crossentropy, Adam Loss, Accuracy Metrics***"
      ]
    },
    {
      "cell_type": "code",
      "metadata": {
        "id": "hzx8PM-Ea1T8",
        "colab_type": "code",
        "colab": {
          "base_uri": "https://localhost:8080/",
          "height": 151
        },
        "outputId": "a9c8cf00-7fe4-4ed6-b368-7128d208acbf"
      },
      "source": [
        "from tensorflow.keras.datasets import fashion_mnist\n",
        "import matplotlib.pyplot as plt\n",
        "\n",
        "(X_train_fmnist, Y_train_fmnist), (X_test_fmnist, Y_test_fmnist) = fashion_mnist.load_data()"
      ],
      "execution_count": 16,
      "outputs": [
        {
          "output_type": "stream",
          "text": [
            "Downloading data from https://storage.googleapis.com/tensorflow/tf-keras-datasets/train-labels-idx1-ubyte.gz\n",
            "32768/29515 [=================================] - 0s 0us/step\n",
            "Downloading data from https://storage.googleapis.com/tensorflow/tf-keras-datasets/train-images-idx3-ubyte.gz\n",
            "26427392/26421880 [==============================] - 1s 0us/step\n",
            "Downloading data from https://storage.googleapis.com/tensorflow/tf-keras-datasets/t10k-labels-idx1-ubyte.gz\n",
            "8192/5148 [===============================================] - 0s 0us/step\n",
            "Downloading data from https://storage.googleapis.com/tensorflow/tf-keras-datasets/t10k-images-idx3-ubyte.gz\n",
            "4423680/4422102 [==============================] - 0s 0us/step\n"
          ],
          "name": "stdout"
        }
      ]
    },
    {
      "cell_type": "code",
      "metadata": {
        "id": "ui4l2sfbUKTN",
        "colab_type": "code",
        "colab": {
          "base_uri": "https://localhost:8080/",
          "height": 298
        },
        "outputId": "a1ab05b8-27e7-4359-9081-af569df096c4"
      },
      "source": [
        "print(Y_train_fmnist[0])\n",
        "plt.imshow(X_train_fmnist[0], cmap='gray')"
      ],
      "execution_count": 17,
      "outputs": [
        {
          "output_type": "stream",
          "text": [
            "9\n"
          ],
          "name": "stdout"
        },
        {
          "output_type": "execute_result",
          "data": {
            "text/plain": [
              "<matplotlib.image.AxesImage at 0x7faed451c7b8>"
            ]
          },
          "metadata": {
            "tags": []
          },
          "execution_count": 17
        },
        {
          "output_type": "display_data",
          "data": {
            "image/png": "[encoded data removed]",
            "text/plain": [
              "<Figure size 432x288 with 1 Axes>"
            ]
          },
          "metadata": {
            "tags": [],
            "needs_background": "light"
          }
        }
      ]
    },
    {
      "cell_type": "code",
      "metadata": {
        "id": "29AljWG3UZ6c",
        "colab_type": "code",
        "colab": {
          "base_uri": "https://localhost:8080/",
          "height": 298
        },
        "outputId": "b9c57172-5afb-40ce-a34e-0676433a2f16"
      },
      "source": [
        "print(Y_train_fmnist[10])\n",
        "plt.imshow(X_train_fmnist[10], cmap='gray')"
      ],
      "execution_count": 18,
      "outputs": [
        {
          "output_type": "stream",
          "text": [
            "0\n"
          ],
          "name": "stdout"
        },
        {
          "output_type": "execute_result",
          "data": {
            "text/plain": [
              "<matplotlib.image.AxesImage at 0x7faed46b39e8>"
            ]
          },
          "metadata": {
            "tags": []
          },
          "execution_count": 18
        },
        {
          "output_type": "display_data",
          "data": {
            "image/png": "[encoded data removed]",
            "text/plain": [
              "<Figure size 432x288 with 1 Axes>"
            ]
          },
          "metadata": {
            "tags": [],
            "needs_background": "light"
          }
        }
      ]
    },
    {
      "cell_type": "code",
      "metadata": {
        "id": "mNqxGwiVUgXi",
        "colab_type": "code",
        "colab": {
          "base_uri": "https://localhost:8080/",
          "height": 298
        },
        "outputId": "9baf3c1e-fa2e-4aa4-859f-ddfcd54cc6f5"
      },
      "source": [
        "print(Y_train_fmnist[1000])\n",
        "plt.imshow(X_train_fmnist[1000], cmap='gray')"
      ],
      "execution_count": 19,
      "outputs": [
        {
          "output_type": "stream",
          "text": [
            "1\n"
          ],
          "name": "stdout"
        },
        {
          "output_type": "execute_result",
          "data": {
            "text/plain": [
              "<matplotlib.image.AxesImage at 0x7faed44acba8>"
            ]
          },
          "metadata": {
            "tags": []
          },
          "execution_count": 19
        },
        {
          "output_type": "display_data",
          "data": {
            "image/png": "[encoded data removed]",
            "text/plain": [
              "<Figure size 432x288 with 1 Axes>"
            ]
          },
          "metadata": {
            "tags": [],
            "needs_background": "light"
          }
        }
      ]
    },
    {
      "cell_type": "code",
      "metadata": {
        "id": "QH2XCqpEUm8c",
        "colab_type": "code",
        "colab": {}
      },
      "source": [
        "from tensorflow.keras.utils import to_categorical\n",
        "\n",
        "Y_train_req_fmnist = to_categorical(Y_train_fmnist)\n",
        "Y_test_req_fmnist = to_categorical(Y_test_fmnist)"
      ],
      "execution_count": 20,
      "outputs": []
    },
    {
      "cell_type": "code",
      "metadata": {
        "id": "0qf1XfLTV4p_",
        "colab_type": "code",
        "colab": {
          "base_uri": "https://localhost:8080/",
          "height": 33
        },
        "outputId": "bc35c244-b207-41e1-89c8-3b3264ff8c32"
      },
      "source": [
        "X_train_fmnist = X_train_fmnist.reshape((X_train_fmnist.shape[0], 28, 28, 1))\n",
        "X_test_fmnist = X_test_fmnist.reshape((X_test_fmnist.shape[0], 28, 28, 1))\n",
        "\n",
        "print(X_train_fmnist.shape, X_test_fmnist.shape, Y_train_req_fmnist.shape, Y_test_req_fmnist.shape)"
      ],
      "execution_count": 21,
      "outputs": [
        {
          "output_type": "stream",
          "text": [
            "(60000, 28, 28, 1) (10000, 28, 28, 1) (60000, 10) (10000, 10)\n"
          ],
          "name": "stdout"
        }
      ]
    },
    {
      "cell_type": "code",
      "metadata": {
        "id": "G3OorZKzVJe6",
        "colab_type": "code",
        "colab": {}
      },
      "source": [
        "from tensorflow.keras.preprocessing.image import ImageDataGenerator\n",
        "\n",
        "augmentor_fmnist = ImageDataGenerator(rotation_range=10, height_shift_range=0.1, width_shift_range=0.1, horizontal_flip=True, validation_split=0.1)\n",
        "\n",
        "train_batch_fmnist = augmentor_fmnist.flow(X_train_fmnist, Y_train_req_fmnist, shuffle=True, subset='training')\n",
        "val_batch_fmnist = augmentor_fmnist.flow(X_train_fmnist, Y_train_req_fmnist, subset='validation')"
      ],
      "execution_count": 22,
      "outputs": []
    },
    {
      "cell_type": "code",
      "metadata": {
        "id": "-bkeiKMXV0Cv",
        "colab_type": "code",
        "colab": {}
      },
      "source": [
        "from tensorflow.keras.layers import Conv2D, Dense, Flatten, MaxPooling2D, BatchNormalization, Input, ZeroPadding2D, ReLU\n",
        "from tensorflow.keras.models import Sequential"
      ],
      "execution_count": 23,
      "outputs": []
    },
    {
      "cell_type": "code",
      "metadata": {
        "id": "oroxNTZKWQEL",
        "colab_type": "code",
        "colab": {}
      },
      "source": [
        "model_fmnist = Sequential()\n",
        "model_fmnist.add(Input((28, 28, 1)))\n",
        "model_fmnist.add(ZeroPadding2D((2,2)))\n",
        "\n",
        "model_fmnist.add(Conv2D(32, (3,3), padding='same', kernel_initializer='glorot_normal', activation='relu'))\n",
        "model_fmnist.add(BatchNormalization(axis=3))\n",
        "model_fmnist.add(Conv2D(32, (3,3), padding='same', kernel_initializer='glorot_normal', activation=ReLU(max_value=1000, threshold=0)))\n",
        "model_fmnist.add(BatchNormalization(axis=3))\n",
        "model_fmnist.add(Conv2D(32, (5,5), strides=2, padding='same', kernel_initializer='glorot_normal', activation='relu'))\n",
        "model_fmnist.add(BatchNormalization(axis=3))\n",
        "\n",
        "model_fmnist.add(Conv2D(64, (3,3), padding='same', kernel_initializer='glorot_normal', activation='relu'))\n",
        "model_fmnist.add(BatchNormalization(axis=3))\n",
        "model_fmnist.add(Conv2D(64, (3,3), padding='same', kernel_initializer='glorot_normal', activation=ReLU(max_value=1000, threshold=0)))\n",
        "model_fmnist.add(BatchNormalization(axis=3))\n",
        "model_fmnist.add(Conv2D(64, (5,5), strides=2, padding='same', kernel_initializer='glorot_normal', activation='relu'))\n",
        "model_fmnist.add(BatchNormalization(axis=3))\n",
        "\n",
        "model_fmnist.add(Conv2D(128, (4,4), padding='same', kernel_initializer='glorot_normal', activation=ReLU(max_value=1000, threshold=0)))\n",
        "model_fmnist.add(BatchNormalization(axis=3))\n",
        "\n",
        "model_fmnist.add(Flatten())\n",
        "model_fmnist.add(BatchNormalization())\n",
        "model_fmnist.add(Dropout(0.4))\n",
        "model_fmnist.add(Dense(10, activation='softmax'))"
      ],
      "execution_count": 24,
      "outputs": []
    },
    {
      "cell_type": "code",
      "metadata": {
        "id": "eiDl9ZB1XE7w",
        "colab_type": "code",
        "colab": {}
      },
      "source": [
        "from tensorflow.keras.optimizers import SGD\n",
        "opt = SGD(lr=0.001, momentum=0.9)\n",
        "\n",
        "model_fmnist.compile(loss='categorical_crossentropy', optimizer=opt, metrics=['accuracy'])"
      ],
      "execution_count": 25,
      "outputs": []
    },
    {
      "cell_type": "code",
      "metadata": {
        "id": "4pWUTLDnXOwS",
        "colab_type": "code",
        "colab": {
          "base_uri": "https://localhost:8080/",
          "height": 1000
        },
        "outputId": "07e8d645-2562-4598-de72-4daa9c657162"
      },
      "source": [
        "history_fmnist = model_fmnist.fit_generator(train_batch_fmnist, validation_data=val_batch_fmnist, epochs=150, steps_per_epoch=(54000//32))"
      ],
      "execution_count": 26,
      "outputs": [
        {
          "output_type": "stream",
          "text": [
            "Epoch 1/150\n",
            "1687/1687 [==============================] - 20s 12ms/step - loss: 0.9082 - accuracy: 0.7285 - val_loss: 0.6017 - val_accuracy: 0.8045\n",
            "Epoch 2/150\n",
            "1687/1687 [==============================] - 20s 12ms/step - loss: 0.6668 - accuracy: 0.7914 - val_loss: 0.5675 - val_accuracy: 0.8125\n",
            "Epoch 3/150\n",
            "1687/1687 [==============================] - 20s 12ms/step - loss: 0.5723 - accuracy: 0.8165 - val_loss: 0.5203 - val_accuracy: 0.8248\n",
            "Epoch 4/150\n",
            "1687/1687 [==============================] - 20s 12ms/step - loss: 0.5289 - accuracy: 0.8288 - val_loss: 0.4456 - val_accuracy: 0.8477\n",
            "Epoch 5/150\n",
            "1687/1687 [==============================] - 20s 12ms/step - loss: 0.4655 - accuracy: 0.8448 - val_loss: 0.3851 - val_accuracy: 0.8710\n",
            "Epoch 6/150\n",
            "1687/1687 [==============================] - 20s 12ms/step - loss: 0.4352 - accuracy: 0.8514 - val_loss: 0.3558 - val_accuracy: 0.8745\n",
            "Epoch 7/150\n",
            "1687/1687 [==============================] - 20s 12ms/step - loss: 0.4105 - accuracy: 0.8606 - val_loss: 0.3583 - val_accuracy: 0.8645\n",
            "Epoch 8/150\n",
            "1687/1687 [==============================] - 20s 12ms/step - loss: 0.3945 - accuracy: 0.8649 - val_loss: 0.2870 - val_accuracy: 0.8953\n",
            "Epoch 9/150\n",
            "1687/1687 [==============================] - 20s 12ms/step - loss: 0.3802 - accuracy: 0.8702 - val_loss: 0.3013 - val_accuracy: 0.8927\n",
            "Epoch 10/150\n",
            "1687/1687 [==============================] - 20s 12ms/step - loss: 0.3654 - accuracy: 0.8738 - val_loss: 0.3652 - val_accuracy: 0.8725\n",
            "Epoch 11/150\n",
            "1687/1687 [==============================] - 20s 12ms/step - loss: 0.3519 - accuracy: 0.8778 - val_loss: 0.2963 - val_accuracy: 0.8895\n",
            "Epoch 12/150\n",
            "1687/1687 [==============================] - 20s 12ms/step - loss: 0.3467 - accuracy: 0.8794 - val_loss: 0.3107 - val_accuracy: 0.8857\n",
            "Epoch 13/150\n",
            "1687/1687 [==============================] - 20s 12ms/step - loss: 0.3420 - accuracy: 0.8819 - val_loss: 0.3050 - val_accuracy: 0.8927\n",
            "Epoch 14/150\n",
            "1687/1687 [==============================] - 20s 12ms/step - loss: 0.3286 - accuracy: 0.8846 - val_loss: 0.2843 - val_accuracy: 0.8967\n",
            "Epoch 15/150\n",
            "1687/1687 [==============================] - 20s 12ms/step - loss: 0.3212 - accuracy: 0.8877 - val_loss: 0.2774 - val_accuracy: 0.9025\n",
            "Epoch 16/150\n",
            "1687/1687 [==============================] - 20s 12ms/step - loss: 0.3149 - accuracy: 0.8904 - val_loss: 0.2694 - val_accuracy: 0.9003\n",
            "Epoch 17/150\n",
            "1687/1687 [==============================] - 20s 12ms/step - loss: 0.3126 - accuracy: 0.8911 - val_loss: 0.2540 - val_accuracy: 0.9095\n",
            "Epoch 18/150\n",
            "1687/1687 [==============================] - 20s 12ms/step - loss: 0.3067 - accuracy: 0.8929 - val_loss: 0.2647 - val_accuracy: 0.9060\n",
            "Epoch 19/150\n",
            "1687/1687 [==============================] - 20s 12ms/step - loss: 0.3016 - accuracy: 0.8934 - val_loss: 0.2471 - val_accuracy: 0.9103\n",
            "Epoch 20/150\n",
            "1687/1687 [==============================] - 20s 12ms/step - loss: 0.2957 - accuracy: 0.8956 - val_loss: 0.2572 - val_accuracy: 0.9032\n",
            "Epoch 21/150\n",
            "1687/1687 [==============================] - 20s 12ms/step - loss: 0.2902 - accuracy: 0.8968 - val_loss: 0.2612 - val_accuracy: 0.9052\n",
            "Epoch 22/150\n",
            "1687/1687 [==============================] - 20s 12ms/step - loss: 0.2902 - accuracy: 0.8968 - val_loss: 0.2369 - val_accuracy: 0.9157\n",
            "Epoch 23/150\n",
            "1687/1687 [==============================] - 20s 12ms/step - loss: 0.2804 - accuracy: 0.9013 - val_loss: 0.2368 - val_accuracy: 0.9148\n",
            "Epoch 24/150\n",
            "1687/1687 [==============================] - 20s 12ms/step - loss: 0.2830 - accuracy: 0.9010 - val_loss: 0.2636 - val_accuracy: 0.9043\n",
            "Epoch 25/150\n",
            "1687/1687 [==============================] - 20s 12ms/step - loss: 0.2820 - accuracy: 0.9012 - val_loss: 0.2258 - val_accuracy: 0.9188\n",
            "Epoch 26/150\n",
            "1687/1687 [==============================] - 20s 12ms/step - loss: 0.2753 - accuracy: 0.9031 - val_loss: 0.2524 - val_accuracy: 0.9100\n",
            "Epoch 27/150\n",
            "1687/1687 [==============================] - 20s 12ms/step - loss: 0.2726 - accuracy: 0.9029 - val_loss: 0.2421 - val_accuracy: 0.9110\n",
            "Epoch 28/150\n",
            "1687/1687 [==============================] - 20s 12ms/step - loss: 0.2683 - accuracy: 0.9040 - val_loss: 0.2288 - val_accuracy: 0.9160\n",
            "Epoch 29/150\n",
            "1687/1687 [==============================] - 20s 12ms/step - loss: 0.2657 - accuracy: 0.9050 - val_loss: 0.2403 - val_accuracy: 0.9138\n",
            "Epoch 30/150\n",
            "1687/1687 [==============================] - 20s 12ms/step - loss: 0.2661 - accuracy: 0.9061 - val_loss: 0.2286 - val_accuracy: 0.9200\n",
            "Epoch 31/150\n",
            "1687/1687 [==============================] - 20s 12ms/step - loss: 0.2610 - accuracy: 0.9074 - val_loss: 0.2260 - val_accuracy: 0.9178\n",
            "Epoch 32/150\n",
            "1687/1687 [==============================] - 20s 12ms/step - loss: 0.2586 - accuracy: 0.9076 - val_loss: 0.2200 - val_accuracy: 0.9205\n",
            "Epoch 33/150\n",
            "1687/1687 [==============================] - 20s 12ms/step - loss: 0.2586 - accuracy: 0.9074 - val_loss: 0.2351 - val_accuracy: 0.9177\n",
            "Epoch 34/150\n",
            "1687/1687 [==============================] - 20s 12ms/step - loss: 0.2552 - accuracy: 0.9095 - val_loss: 0.2308 - val_accuracy: 0.9190\n",
            "Epoch 35/150\n",
            "1687/1687 [==============================] - 20s 12ms/step - loss: 0.2543 - accuracy: 0.9093 - val_loss: 0.2221 - val_accuracy: 0.9203\n",
            "Epoch 36/150\n",
            "1687/1687 [==============================] - 20s 12ms/step - loss: 0.2548 - accuracy: 0.9094 - val_loss: 0.2293 - val_accuracy: 0.9185\n",
            "Epoch 37/150\n",
            "1687/1687 [==============================] - 20s 12ms/step - loss: 0.2473 - accuracy: 0.9108 - val_loss: 0.2316 - val_accuracy: 0.9162\n",
            "Epoch 38/150\n",
            "1687/1687 [==============================] - 20s 12ms/step - loss: 0.2480 - accuracy: 0.9104 - val_loss: 0.2183 - val_accuracy: 0.9237\n",
            "Epoch 39/150\n",
            "1687/1687 [==============================] - 20s 12ms/step - loss: 0.2453 - accuracy: 0.9126 - val_loss: 0.2275 - val_accuracy: 0.9187\n",
            "Epoch 40/150\n",
            "1687/1687 [==============================] - 20s 12ms/step - loss: 0.2469 - accuracy: 0.9125 - val_loss: 0.2304 - val_accuracy: 0.9167\n",
            "Epoch 41/150\n",
            "1687/1687 [==============================] - 20s 12ms/step - loss: 0.2460 - accuracy: 0.9130 - val_loss: 0.2435 - val_accuracy: 0.9122\n",
            "Epoch 42/150\n",
            "1687/1687 [==============================] - 20s 12ms/step - loss: 0.2419 - accuracy: 0.9137 - val_loss: 0.2191 - val_accuracy: 0.9222\n",
            "Epoch 43/150\n",
            "1687/1687 [==============================] - 20s 12ms/step - loss: 0.2374 - accuracy: 0.9162 - val_loss: 0.2136 - val_accuracy: 0.9223\n",
            "Epoch 44/150\n",
            "1687/1687 [==============================] - 20s 12ms/step - loss: 0.2406 - accuracy: 0.9142 - val_loss: 0.2205 - val_accuracy: 0.9205\n",
            "Epoch 45/150\n",
            "1687/1687 [==============================] - 20s 12ms/step - loss: 0.2330 - accuracy: 0.9162 - val_loss: 0.2080 - val_accuracy: 0.9268\n",
            "Epoch 46/150\n",
            "1687/1687 [==============================] - 20s 12ms/step - loss: 0.2302 - accuracy: 0.9178 - val_loss: 0.2137 - val_accuracy: 0.9205\n",
            "Epoch 47/150\n",
            "1687/1687 [==============================] - 20s 12ms/step - loss: 0.2290 - accuracy: 0.9182 - val_loss: 0.2056 - val_accuracy: 0.9265\n",
            "Epoch 48/150\n",
            "1687/1687 [==============================] - 20s 12ms/step - loss: 0.2293 - accuracy: 0.9180 - val_loss: 0.2087 - val_accuracy: 0.9247\n",
            "Epoch 49/150\n",
            "1687/1687 [==============================] - 20s 12ms/step - loss: 0.2266 - accuracy: 0.9171 - val_loss: 0.2519 - val_accuracy: 0.9075\n",
            "Epoch 50/150\n",
            "1687/1687 [==============================] - 20s 12ms/step - loss: 0.2295 - accuracy: 0.9186 - val_loss: 0.2173 - val_accuracy: 0.9210\n",
            "Epoch 51/150\n",
            "1687/1687 [==============================] - 20s 12ms/step - loss: 0.2246 - accuracy: 0.9199 - val_loss: 0.2088 - val_accuracy: 0.9278\n",
            "Epoch 52/150\n",
            "1687/1687 [==============================] - 20s 12ms/step - loss: 0.2287 - accuracy: 0.9184 - val_loss: 0.2095 - val_accuracy: 0.9248\n",
            "Epoch 53/150\n",
            "1687/1687 [==============================] - 20s 12ms/step - loss: 0.2232 - accuracy: 0.9194 - val_loss: 0.2055 - val_accuracy: 0.9263\n",
            "Epoch 54/150\n",
            "1687/1687 [==============================] - 20s 12ms/step - loss: 0.2282 - accuracy: 0.9192 - val_loss: 0.1997 - val_accuracy: 0.9295\n",
            "Epoch 55/150\n",
            "1687/1687 [==============================] - 20s 12ms/step - loss: 0.2215 - accuracy: 0.9191 - val_loss: 0.2128 - val_accuracy: 0.9238\n",
            "Epoch 56/150\n",
            "1687/1687 [==============================] - 20s 12ms/step - loss: 0.2179 - accuracy: 0.9228 - val_loss: 0.2074 - val_accuracy: 0.9278\n",
            "Epoch 57/150\n",
            "1687/1687 [==============================] - 20s 12ms/step - loss: 0.2213 - accuracy: 0.9200 - val_loss: 0.2096 - val_accuracy: 0.9257\n",
            "Epoch 58/150\n",
            "1687/1687 [==============================] - 20s 12ms/step - loss: 0.2195 - accuracy: 0.9217 - val_loss: 0.2189 - val_accuracy: 0.9257\n",
            "Epoch 59/150\n",
            "1687/1687 [==============================] - 20s 12ms/step - loss: 0.2164 - accuracy: 0.9218 - val_loss: 0.2087 - val_accuracy: 0.9283\n",
            "Epoch 60/150\n",
            "1687/1687 [==============================] - 20s 12ms/step - loss: 0.2154 - accuracy: 0.9235 - val_loss: 0.2206 - val_accuracy: 0.9200\n",
            "Epoch 61/150\n",
            "1687/1687 [==============================] - 20s 12ms/step - loss: 0.2137 - accuracy: 0.9220 - val_loss: 0.2221 - val_accuracy: 0.9227\n",
            "Epoch 62/150\n",
            "1687/1687 [==============================] - 20s 12ms/step - loss: 0.2128 - accuracy: 0.9233 - val_loss: 0.2094 - val_accuracy: 0.9267\n",
            "Epoch 63/150\n",
            "1687/1687 [==============================] - 20s 12ms/step - loss: 0.2119 - accuracy: 0.9230 - val_loss: 0.2189 - val_accuracy: 0.9247\n",
            "Epoch 64/150\n",
            "1687/1687 [==============================] - 20s 12ms/step - loss: 0.2113 - accuracy: 0.9238 - val_loss: 0.2153 - val_accuracy: 0.9223\n",
            "Epoch 65/150\n",
            "1687/1687 [==============================] - 20s 12ms/step - loss: 0.2092 - accuracy: 0.9246 - val_loss: 0.2024 - val_accuracy: 0.9247\n",
            "Epoch 66/150\n",
            "1687/1687 [==============================] - 20s 12ms/step - loss: 0.2113 - accuracy: 0.9236 - val_loss: 0.2182 - val_accuracy: 0.9205\n",
            "Epoch 67/150\n",
            "1687/1687 [==============================] - 20s 12ms/step - loss: 0.2104 - accuracy: 0.9263 - val_loss: 0.2031 - val_accuracy: 0.9303\n",
            "Epoch 68/150\n",
            "1687/1687 [==============================] - 19s 12ms/step - loss: 0.2064 - accuracy: 0.9257 - val_loss: 0.2299 - val_accuracy: 0.9203\n",
            "Epoch 69/150\n",
            "1687/1687 [==============================] - 19s 12ms/step - loss: 0.2082 - accuracy: 0.9253 - val_loss: 0.2008 - val_accuracy: 0.9272\n",
            "Epoch 70/150\n",
            "1687/1687 [==============================] - 19s 12ms/step - loss: 0.2111 - accuracy: 0.9249 - val_loss: 0.2127 - val_accuracy: 0.9218\n",
            "Epoch 71/150\n",
            "1687/1687 [==============================] - 20s 12ms/step - loss: 0.2088 - accuracy: 0.9260 - val_loss: 0.2081 - val_accuracy: 0.9268\n",
            "Epoch 72/150\n",
            "1687/1687 [==============================] - 20s 12ms/step - loss: 0.2066 - accuracy: 0.9250 - val_loss: 0.2217 - val_accuracy: 0.9212\n",
            "Epoch 73/150\n",
            "1687/1687 [==============================] - 20s 12ms/step - loss: 0.2005 - accuracy: 0.9254 - val_loss: 0.2071 - val_accuracy: 0.9288\n",
            "Epoch 74/150\n",
            "1687/1687 [==============================] - 20s 12ms/step - loss: 0.2087 - accuracy: 0.9257 - val_loss: 0.1913 - val_accuracy: 0.9312\n",
            "Epoch 75/150\n",
            "1687/1687 [==============================] - 20s 12ms/step - loss: 0.2040 - accuracy: 0.9265 - val_loss: 0.2059 - val_accuracy: 0.9307\n",
            "Epoch 76/150\n",
            "1687/1687 [==============================] - 20s 12ms/step - loss: 0.2004 - accuracy: 0.9281 - val_loss: 0.1937 - val_accuracy: 0.9315\n",
            "Epoch 77/150\n",
            "1687/1687 [==============================] - 20s 12ms/step - loss: 0.2028 - accuracy: 0.9261 - val_loss: 0.1969 - val_accuracy: 0.9320\n",
            "Epoch 78/150\n",
            "1687/1687 [==============================] - 20s 12ms/step - loss: 0.1992 - accuracy: 0.9272 - val_loss: 0.2037 - val_accuracy: 0.9268\n",
            "Epoch 79/150\n",
            "1687/1687 [==============================] - 20s 12ms/step - loss: 0.1993 - accuracy: 0.9275 - val_loss: 0.2000 - val_accuracy: 0.9292\n",
            "Epoch 80/150\n",
            "1687/1687 [==============================] - 20s 12ms/step - loss: 0.1970 - accuracy: 0.9284 - val_loss: 0.2076 - val_accuracy: 0.9255\n",
            "Epoch 81/150\n",
            "1687/1687 [==============================] - 20s 12ms/step - loss: 0.1921 - accuracy: 0.9303 - val_loss: 0.2195 - val_accuracy: 0.9235\n",
            "Epoch 82/150\n",
            "1687/1687 [==============================] - 20s 12ms/step - loss: 0.1998 - accuracy: 0.9285 - val_loss: 0.1923 - val_accuracy: 0.9330\n",
            "Epoch 83/150\n",
            "1687/1687 [==============================] - 20s 12ms/step - loss: 0.1965 - accuracy: 0.9286 - val_loss: 0.1906 - val_accuracy: 0.9298\n",
            "Epoch 84/150\n",
            "1687/1687 [==============================] - 20s 12ms/step - loss: 0.1955 - accuracy: 0.9289 - val_loss: 0.2021 - val_accuracy: 0.9288\n",
            "Epoch 85/150\n",
            "1687/1687 [==============================] - 20s 12ms/step - loss: 0.1950 - accuracy: 0.9311 - val_loss: 0.1945 - val_accuracy: 0.9317\n",
            "Epoch 86/150\n",
            "1687/1687 [==============================] - 20s 12ms/step - loss: 0.1936 - accuracy: 0.9305 - val_loss: 0.2000 - val_accuracy: 0.9317\n",
            "Epoch 87/150\n",
            "1687/1687 [==============================] - 20s 12ms/step - loss: 0.1934 - accuracy: 0.9302 - val_loss: 0.1979 - val_accuracy: 0.9340\n",
            "Epoch 88/150\n",
            "1687/1687 [==============================] - 20s 12ms/step - loss: 0.1903 - accuracy: 0.9311 - val_loss: 0.1892 - val_accuracy: 0.9330\n",
            "Epoch 89/150\n",
            "1687/1687 [==============================] - 20s 12ms/step - loss: 0.1911 - accuracy: 0.9308 - val_loss: 0.1950 - val_accuracy: 0.9293\n",
            "Epoch 90/150\n",
            "1687/1687 [==============================] - 20s 12ms/step - loss: 0.1934 - accuracy: 0.9309 - val_loss: 0.2073 - val_accuracy: 0.9303\n",
            "Epoch 91/150\n",
            "1687/1687 [==============================] - 20s 12ms/step - loss: 0.1883 - accuracy: 0.9320 - val_loss: 0.2030 - val_accuracy: 0.9303\n",
            "Epoch 92/150\n",
            "1687/1687 [==============================] - 20s 12ms/step - loss: 0.1883 - accuracy: 0.9310 - val_loss: 0.2079 - val_accuracy: 0.9267\n",
            "Epoch 93/150\n",
            "1687/1687 [==============================] - 20s 12ms/step - loss: 0.1871 - accuracy: 0.9324 - val_loss: 0.1977 - val_accuracy: 0.9328\n",
            "Epoch 94/150\n",
            "1687/1687 [==============================] - 20s 12ms/step - loss: 0.1883 - accuracy: 0.9308 - val_loss: 0.1979 - val_accuracy: 0.9292\n",
            "Epoch 95/150\n",
            "1687/1687 [==============================] - 20s 12ms/step - loss: 0.1853 - accuracy: 0.9344 - val_loss: 0.1964 - val_accuracy: 0.9298\n",
            "Epoch 96/150\n",
            "1687/1687 [==============================] - 20s 12ms/step - loss: 0.1897 - accuracy: 0.9325 - val_loss: 0.1883 - val_accuracy: 0.9345\n",
            "Epoch 97/150\n",
            "1687/1687 [==============================] - 20s 12ms/step - loss: 0.1869 - accuracy: 0.9322 - val_loss: 0.2183 - val_accuracy: 0.9203\n",
            "Epoch 98/150\n",
            "1687/1687 [==============================] - 20s 12ms/step - loss: 0.1857 - accuracy: 0.9325 - val_loss: 0.1930 - val_accuracy: 0.9342\n",
            "Epoch 99/150\n",
            "1687/1687 [==============================] - 20s 12ms/step - loss: 0.1871 - accuracy: 0.9321 - val_loss: 0.2028 - val_accuracy: 0.9323\n",
            "Epoch 100/150\n",
            "1687/1687 [==============================] - 20s 12ms/step - loss: 0.1841 - accuracy: 0.9324 - val_loss: 0.1962 - val_accuracy: 0.9302\n",
            "Epoch 101/150\n",
            "1687/1687 [==============================] - 20s 12ms/step - loss: 0.1853 - accuracy: 0.9332 - val_loss: 0.2048 - val_accuracy: 0.9290\n",
            "Epoch 102/150\n",
            "1687/1687 [==============================] - 20s 12ms/step - loss: 0.1846 - accuracy: 0.9335 - val_loss: 0.2208 - val_accuracy: 0.9262\n",
            "Epoch 103/150\n",
            "1687/1687 [==============================] - 20s 12ms/step - loss: 0.1854 - accuracy: 0.9323 - val_loss: 0.1926 - val_accuracy: 0.9318\n",
            "Epoch 104/150\n",
            "1687/1687 [==============================] - 20s 12ms/step - loss: 0.1831 - accuracy: 0.9333 - val_loss: 0.1967 - val_accuracy: 0.9315\n",
            "Epoch 105/150\n",
            "1687/1687 [==============================] - 20s 12ms/step - loss: 0.1819 - accuracy: 0.9344 - val_loss: 0.1969 - val_accuracy: 0.9307\n",
            "Epoch 106/150\n",
            "1687/1687 [==============================] - 20s 12ms/step - loss: 0.1792 - accuracy: 0.9343 - val_loss: 0.1935 - val_accuracy: 0.9323\n",
            "Epoch 107/150\n",
            "1687/1687 [==============================] - 20s 12ms/step - loss: 0.1813 - accuracy: 0.9348 - val_loss: 0.1966 - val_accuracy: 0.9300\n",
            "Epoch 108/150\n",
            "1687/1687 [==============================] - 20s 12ms/step - loss: 0.1803 - accuracy: 0.9347 - val_loss: 0.2104 - val_accuracy: 0.9298\n",
            "Epoch 109/150\n",
            "1687/1687 [==============================] - 20s 12ms/step - loss: 0.1809 - accuracy: 0.9353 - val_loss: 0.2069 - val_accuracy: 0.9308\n",
            "Epoch 110/150\n",
            "1687/1687 [==============================] - 20s 12ms/step - loss: 0.1778 - accuracy: 0.9355 - val_loss: 0.1936 - val_accuracy: 0.9333\n",
            "Epoch 111/150\n",
            "1687/1687 [==============================] - 20s 12ms/step - loss: 0.1795 - accuracy: 0.9342 - val_loss: 0.1966 - val_accuracy: 0.9325\n",
            "Epoch 112/150\n",
            "1687/1687 [==============================] - 20s 12ms/step - loss: 0.1747 - accuracy: 0.9361 - val_loss: 0.2041 - val_accuracy: 0.9293\n",
            "Epoch 113/150\n",
            "1687/1687 [==============================] - 20s 12ms/step - loss: 0.1739 - accuracy: 0.9371 - val_loss: 0.1946 - val_accuracy: 0.9362\n",
            "Epoch 114/150\n",
            "1687/1687 [==============================] - 20s 12ms/step - loss: 0.1771 - accuracy: 0.9361 - val_loss: 0.1993 - val_accuracy: 0.9320\n",
            "Epoch 115/150\n",
            "1687/1687 [==============================] - 20s 12ms/step - loss: 0.1770 - accuracy: 0.9360 - val_loss: 0.1869 - val_accuracy: 0.9395\n",
            "Epoch 116/150\n",
            "1687/1687 [==============================] - 20s 12ms/step - loss: 0.1787 - accuracy: 0.9364 - val_loss: 0.1977 - val_accuracy: 0.9352\n",
            "Epoch 117/150\n",
            "1687/1687 [==============================] - 20s 12ms/step - loss: 0.1791 - accuracy: 0.9353 - val_loss: 0.1951 - val_accuracy: 0.9327\n",
            "Epoch 118/150\n",
            "1687/1687 [==============================] - 20s 12ms/step - loss: 0.1712 - accuracy: 0.9381 - val_loss: 0.1908 - val_accuracy: 0.9365\n",
            "Epoch 119/150\n",
            "1687/1687 [==============================] - 20s 12ms/step - loss: 0.1770 - accuracy: 0.9361 - val_loss: 0.1913 - val_accuracy: 0.9347\n",
            "Epoch 120/150\n",
            "1687/1687 [==============================] - 20s 12ms/step - loss: 0.1753 - accuracy: 0.9371 - val_loss: 0.2004 - val_accuracy: 0.9323\n",
            "Epoch 121/150\n",
            "1687/1687 [==============================] - 20s 12ms/step - loss: 0.1704 - accuracy: 0.9381 - val_loss: 0.1933 - val_accuracy: 0.9333\n",
            "Epoch 122/150\n",
            "1687/1687 [==============================] - 20s 12ms/step - loss: 0.1717 - accuracy: 0.9369 - val_loss: 0.1806 - val_accuracy: 0.9383\n",
            "Epoch 123/150\n",
            "1687/1687 [==============================] - 20s 12ms/step - loss: 0.1703 - accuracy: 0.9373 - val_loss: 0.1870 - val_accuracy: 0.9332\n",
            "Epoch 124/150\n",
            "1687/1687 [==============================] - 20s 12ms/step - loss: 0.1728 - accuracy: 0.9382 - val_loss: 0.1895 - val_accuracy: 0.9370\n",
            "Epoch 125/150\n",
            "1687/1687 [==============================] - 20s 12ms/step - loss: 0.1710 - accuracy: 0.9380 - val_loss: 0.1854 - val_accuracy: 0.9362\n",
            "Epoch 126/150\n",
            "1687/1687 [==============================] - 20s 12ms/step - loss: 0.1684 - accuracy: 0.9390 - val_loss: 0.1800 - val_accuracy: 0.9348\n",
            "Epoch 127/150\n",
            "1687/1687 [==============================] - 20s 12ms/step - loss: 0.1679 - accuracy: 0.9397 - val_loss: 0.1866 - val_accuracy: 0.9362\n",
            "Epoch 128/150\n",
            "1687/1687 [==============================] - 20s 12ms/step - loss: 0.1698 - accuracy: 0.9384 - val_loss: 0.1977 - val_accuracy: 0.9313\n",
            "Epoch 129/150\n",
            "1687/1687 [==============================] - 20s 12ms/step - loss: 0.1646 - accuracy: 0.9393 - val_loss: 0.1935 - val_accuracy: 0.9362\n",
            "Epoch 130/150\n",
            "1687/1687 [==============================] - 20s 12ms/step - loss: 0.1675 - accuracy: 0.9401 - val_loss: 0.1914 - val_accuracy: 0.9365\n",
            "Epoch 131/150\n",
            "1687/1687 [==============================] - 20s 12ms/step - loss: 0.1636 - accuracy: 0.9404 - val_loss: 0.1968 - val_accuracy: 0.9323\n",
            "Epoch 132/150\n",
            "1687/1687 [==============================] - 20s 12ms/step - loss: 0.1660 - accuracy: 0.9397 - val_loss: 0.1888 - val_accuracy: 0.9345\n",
            "Epoch 133/150\n",
            "1687/1687 [==============================] - 20s 12ms/step - loss: 0.1667 - accuracy: 0.9388 - val_loss: 0.1882 - val_accuracy: 0.9345\n",
            "Epoch 134/150\n",
            "1687/1687 [==============================] - 20s 12ms/step - loss: 0.1636 - accuracy: 0.9409 - val_loss: 0.1955 - val_accuracy: 0.9308\n",
            "Epoch 135/150\n",
            "1687/1687 [==============================] - 20s 12ms/step - loss: 0.1640 - accuracy: 0.9416 - val_loss: 0.2013 - val_accuracy: 0.9303\n",
            "Epoch 136/150\n",
            "1687/1687 [==============================] - 20s 12ms/step - loss: 0.1628 - accuracy: 0.9404 - val_loss: 0.1878 - val_accuracy: 0.9343\n",
            "Epoch 137/150\n",
            "1687/1687 [==============================] - 20s 12ms/step - loss: 0.1636 - accuracy: 0.9414 - val_loss: 0.1850 - val_accuracy: 0.9398\n",
            "Epoch 138/150\n",
            "1687/1687 [==============================] - 20s 12ms/step - loss: 0.1630 - accuracy: 0.9418 - val_loss: 0.1905 - val_accuracy: 0.9360\n",
            "Epoch 139/150\n",
            "1687/1687 [==============================] - 20s 12ms/step - loss: 0.1605 - accuracy: 0.9423 - val_loss: 0.1942 - val_accuracy: 0.9365\n",
            "Epoch 140/150\n",
            "1687/1687 [==============================] - 20s 12ms/step - loss: 0.1584 - accuracy: 0.9420 - val_loss: 0.1801 - val_accuracy: 0.9400\n",
            "Epoch 141/150\n",
            "1687/1687 [==============================] - 20s 12ms/step - loss: 0.1565 - accuracy: 0.9427 - val_loss: 0.1954 - val_accuracy: 0.9343\n",
            "Epoch 142/150\n",
            "1687/1687 [==============================] - 20s 12ms/step - loss: 0.1584 - accuracy: 0.9422 - val_loss: 0.1872 - val_accuracy: 0.9337\n",
            "Epoch 143/150\n",
            "1687/1687 [==============================] - 20s 12ms/step - loss: 0.1597 - accuracy: 0.9415 - val_loss: 0.1867 - val_accuracy: 0.9383\n",
            "Epoch 144/150\n",
            "1687/1687 [==============================] - 20s 12ms/step - loss: 0.1594 - accuracy: 0.9413 - val_loss: 0.1915 - val_accuracy: 0.9330\n",
            "Epoch 145/150\n",
            "1687/1687 [==============================] - 20s 12ms/step - loss: 0.1580 - accuracy: 0.9427 - val_loss: 0.1980 - val_accuracy: 0.9317\n",
            "Epoch 146/150\n",
            "1687/1687 [==============================] - 20s 12ms/step - loss: 0.1580 - accuracy: 0.9423 - val_loss: 0.1865 - val_accuracy: 0.9370\n",
            "Epoch 147/150\n",
            "1687/1687 [==============================] - 20s 12ms/step - loss: 0.1586 - accuracy: 0.9418 - val_loss: 0.1939 - val_accuracy: 0.9372\n",
            "Epoch 148/150\n",
            "1687/1687 [==============================] - 20s 12ms/step - loss: 0.1612 - accuracy: 0.9418 - val_loss: 0.2072 - val_accuracy: 0.9323\n",
            "Epoch 149/150\n",
            "1687/1687 [==============================] - 20s 12ms/step - loss: 0.1590 - accuracy: 0.9426 - val_loss: 0.1902 - val_accuracy: 0.9382\n",
            "Epoch 150/150\n",
            "1687/1687 [==============================] - 20s 12ms/step - loss: 0.1559 - accuracy: 0.9427 - val_loss: 0.1966 - val_accuracy: 0.9337\n"
          ],
          "name": "stdout"
        }
      ]
    },
    {
      "cell_type": "code",
      "metadata": {
        "id": "WOFD-M8IXXyH",
        "colab_type": "code",
        "colab": {
          "base_uri": "https://localhost:8080/",
          "height": 265
        },
        "outputId": "fee9b498-ad25-4d39-e3bf-7ebd7e671d51"
      },
      "source": [
        "plt.plot(history_fmnist.history['loss'])\n",
        "plt.plot(history_fmnist.history['val_loss'])\n",
        "plt.legend(['Training Loss', 'Validation Loss'], loc='best')\n",
        "plt.show()"
      ],
      "execution_count": 27,
      "outputs": [
        {
          "output_type": "display_data",
          "data": {
            "image/png": "[encoded data removed]",
            "text/plain": [
              "<Figure size 432x288 with 1 Axes>"
            ]
          },
          "metadata": {
            "tags": [],
            "needs_background": "light"
          }
        }
      ]
    },
    {
      "cell_type": "code",
      "metadata": {
        "id": "wD3I5HU6XtlV",
        "colab_type": "code",
        "colab": {
          "base_uri": "https://localhost:8080/",
          "height": 266
        },
        "outputId": "3b66fdb7-9ef8-4b3b-d473-eff1ced47c05"
      },
      "source": [
        "plt.plot(history_fmnist.history['accuracy'])\n",
        "plt.plot(history_fmnist.history['val_accuracy'])\n",
        "plt.legend(['Training Accuracy', 'Validation Accuracy'], loc='best')\n",
        "plt.show()"
      ],
      "execution_count": 28,
      "outputs": [
        {
          "output_type": "display_data",
          "data": {
            "image/png": "[encoded data removed]",
            "text/plain": [
              "<Figure size 432x288 with 1 Axes>"
            ]
          },
          "metadata": {
            "tags": [],
            "needs_background": "light"
          }
        }
      ]
    },
    {
      "cell_type": "code",
      "metadata": {
        "id": "k7dUisnFXtaM",
        "colab_type": "code",
        "colab": {
          "base_uri": "https://localhost:8080/",
          "height": 50
        },
        "outputId": "8d58360c-a97a-4953-ae95-158652176ffb"
      },
      "source": [
        "model_fmnist.evaluate(X_test_fmnist, Y_test_req_fmnist)"
      ],
      "execution_count": 29,
      "outputs": [
        {
          "output_type": "stream",
          "text": [
            "313/313 [==============================] - 1s 4ms/step - loss: 0.2195 - accuracy: 0.9241\n"
          ],
          "name": "stdout"
        },
        {
          "output_type": "execute_result",
          "data": {
            "text/plain": [
              "[0.21953405439853668, 0.9240999817848206]"
            ]
          },
          "metadata": {
            "tags": []
          },
          "execution_count": 29
        }
      ]
    },
    {
      "cell_type": "markdown",
      "metadata": {
        "id": "_sL9YaOHRA3n",
        "colab_type": "text"
      },
      "source": [
        "***CIFAR100 Normal implementation - Categorical Crossentropy Loss, Adam Optimizer and Accuracy Metrics***"
      ]
    },
    {
      "cell_type": "code",
      "metadata": {
        "id": "FnOMPCAxYSIf",
        "colab_type": "code",
        "colab": {
          "base_uri": "https://localhost:8080/",
          "height": 50
        },
        "outputId": "537bca0b-d3cc-4a5e-ac2e-f54f51ea2f9d"
      },
      "source": [
        "from tensorflow.keras.datasets import cifar100\n",
        "import matplotlib.pyplot as plt\n",
        "\n",
        "(X_train_cifar100, Y_train_cifar100), (X_test_cifar100, Y_test_cifar100) = cifar100.load_data()"
      ],
      "execution_count": 30,
      "outputs": [
        {
          "output_type": "stream",
          "text": [
            "Downloading data from https://www.cs.toronto.edu/~kriz/cifar-100-python.tar.gz\n",
            "169009152/169001437 [==============================] - 13s 0us/step\n"
          ],
          "name": "stdout"
        }
      ]
    },
    {
      "cell_type": "code",
      "metadata": {
        "id": "JnAN0BLpYsQd",
        "colab_type": "code",
        "colab": {
          "base_uri": "https://localhost:8080/",
          "height": 300
        },
        "outputId": "b2080736-d44f-4859-b0d4-63d8302afefa"
      },
      "source": [
        "print(Y_train_cifar100[0])\n",
        "plt.imshow(X_train_cifar100[0])"
      ],
      "execution_count": 31,
      "outputs": [
        {
          "output_type": "stream",
          "text": [
            "[19]\n"
          ],
          "name": "stdout"
        },
        {
          "output_type": "execute_result",
          "data": {
            "text/plain": [
              "<matplotlib.image.AxesImage at 0x7faed4669748>"
            ]
          },
          "metadata": {
            "tags": []
          },
          "execution_count": 31
        },
        {
          "output_type": "display_data",
          "data": {
            "image/png": "[encoded data removed]",
            "text/plain": [
              "<Figure size 432x288 with 1 Axes>"
            ]
          },
          "metadata": {
            "tags": [],
            "needs_background": "light"
          }
        }
      ]
    },
    {
      "cell_type": "code",
      "metadata": {
        "id": "2-qsWPsNY0oo",
        "colab_type": "code",
        "colab": {
          "base_uri": "https://localhost:8080/",
          "height": 300
        },
        "outputId": "3200458e-5f1a-4e2b-a9f7-b51565f1e753"
      },
      "source": [
        "print(Y_train_cifar100[10])\n",
        "plt.imshow(X_train_cifar100[10])"
      ],
      "execution_count": 32,
      "outputs": [
        {
          "output_type": "stream",
          "text": [
            "[39]\n"
          ],
          "name": "stdout"
        },
        {
          "output_type": "execute_result",
          "data": {
            "text/plain": [
              "<matplotlib.image.AxesImage at 0x7faecc751358>"
            ]
          },
          "metadata": {
            "tags": []
          },
          "execution_count": 32
        },
        {
          "output_type": "display_data",
          "data": {
            "image/png": "[encoded data removed]",
            "text/plain": [
              "<Figure size 432x288 with 1 Axes>"
            ]
          },
          "metadata": {
            "tags": [],
            "needs_background": "light"
          }
        }
      ]
    },
    {
      "cell_type": "code",
      "metadata": {
        "id": "oTDAKh_eY10w",
        "colab_type": "code",
        "colab": {
          "base_uri": "https://localhost:8080/",
          "height": 300
        },
        "outputId": "d6b3686c-b973-4d46-ce2d-b46459764ada"
      },
      "source": [
        "print(Y_train_cifar100[100])\n",
        "plt.imshow(X_train_cifar100[100])"
      ],
      "execution_count": 33,
      "outputs": [
        {
          "output_type": "stream",
          "text": [
            "[55]\n"
          ],
          "name": "stdout"
        },
        {
          "output_type": "execute_result",
          "data": {
            "text/plain": [
              "<matplotlib.image.AxesImage at 0x7faecc064128>"
            ]
          },
          "metadata": {
            "tags": []
          },
          "execution_count": 33
        },
        {
          "output_type": "display_data",
          "data": {
            "image/png": "[encoded data removed]",
            "text/plain": [
              "<Figure size 432x288 with 1 Axes>"
            ]
          },
          "metadata": {
            "tags": [],
            "needs_background": "light"
          }
        }
      ]
    },
    {
      "cell_type": "code",
      "metadata": {
        "id": "ahoifL2HY3BQ",
        "colab_type": "code",
        "colab": {
          "base_uri": "https://localhost:8080/",
          "height": 33
        },
        "outputId": "63ad98c8-096f-4bc6-ef5c-25483acdba62"
      },
      "source": [
        "from tensorflow.keras.utils import to_categorical\n",
        "\n",
        "Y_train_req_cifar100 = to_categorical(Y_train_cifar100)\n",
        "Y_test_req_cifar100 = to_categorical(Y_test_cifar100)\n",
        "\n",
        "print(X_train_cifar100.shape, X_test_cifar100.shape, Y_train_req_cifar100.shape, Y_test_req_cifar100.shape)"
      ],
      "execution_count": 34,
      "outputs": [
        {
          "output_type": "stream",
          "text": [
            "(50000, 32, 32, 3) (10000, 32, 32, 3) (50000, 100) (10000, 100)\n"
          ],
          "name": "stdout"
        }
      ]
    },
    {
      "cell_type": "code",
      "metadata": {
        "id": "OobJjdNsZK8E",
        "colab_type": "code",
        "colab": {}
      },
      "source": [
        "from tensorflow.keras.layers import Conv2D, BatchNormalization, Dropout, MaxPool2D, Input, Dense, GlobalAveragePooling2D, Add, Activation, ZeroPadding2D\n",
        "from tensorflow.keras.models import Sequential"
      ],
      "execution_count": 45,
      "outputs": []
    },
    {
      "cell_type": "code",
      "metadata": {
        "id": "zjCQk1g1AgO6",
        "colab_type": "code",
        "colab": {}
      },
      "source": [
        "model_cifar100 = Sequential()\n",
        "model_cifar100.add(Input((32, 32, 3)))\n",
        "\n",
        "model_cifar100.add(Conv2D(64, (3,3), padding='same', kernel_initializer='glorot_normal', activation='relu'))\n",
        "model_cifar100.add(BatchNormalization(axis=3))\n",
        "model_cifar100.add(Conv2D(64, (3,3), padding='same', kernel_initializer='glorot_normal', activation=ReLU(max_value=1000, threshold=0)))\n",
        "model_cifar100.add(BatchNormalization(axis=3))\n",
        "model_cifar100.add(Conv2D(64, (5,5), strides=2, padding='same', kernel_initializer='glorot_normal', activation='relu'))\n",
        "model_cifar100.add(BatchNormalization(axis=3))\n",
        "\n",
        "model_cifar100.add(Conv2D(128, (3,3), padding='same', kernel_initializer='glorot_normal', activation='relu'))\n",
        "model_cifar100.add(BatchNormalization(axis=3))\n",
        "model_cifar100.add(Conv2D(128, (3,3), padding='same', kernel_initializer='glorot_normal', activation=ReLU(max_value=1000, threshold=0)))\n",
        "model_cifar100.add(BatchNormalization(axis=3))\n",
        "model_cifar100.add(Conv2D(128, (5,5), strides=2, padding='same', kernel_initializer='glorot_normal', activation='relu'))\n",
        "model_cifar100.add(BatchNormalization(axis=3))\n",
        "\n",
        "model_cifar100.add(Conv2D(256, (4,4), padding='same', kernel_initializer='glorot_normal', activation=ReLU(max_value=1000, threshold=0)))\n",
        "model_cifar100.add(BatchNormalization(axis=3))\n",
        "\n",
        "model_cifar100.add(Flatten())\n",
        "model_cifar100.add(BatchNormalization())\n",
        "model_cifar100.add(Dropout(0.4))\n",
        "model_cifar100.add(Dense(100, activation='softmax'))"
      ],
      "execution_count": 46,
      "outputs": []
    },
    {
      "cell_type": "code",
      "metadata": {
        "id": "Y2aqQ2pv54C_",
        "colab_type": "code",
        "colab": {
          "base_uri": "https://localhost:8080/",
          "height": 756
        },
        "outputId": "70f023c0-61b3-40e9-8e63-949ce510618c"
      },
      "source": [
        "model_cifar100.summary()"
      ],
      "execution_count": 47,
      "outputs": [
        {
          "output_type": "stream",
          "text": [
            "Model: \"sequential_3\"\n",
            "_________________________________________________________________\n",
            "Layer (type)                 Output Shape              Param #   \n",
            "=================================================================\n",
            "conv2d_21 (Conv2D)           (None, 32, 32, 64)        1792      \n",
            "_________________________________________________________________\n",
            "batch_normalization_24 (Batc (None, 32, 32, 64)        256       \n",
            "_________________________________________________________________\n",
            "conv2d_22 (Conv2D)           (None, 32, 32, 64)        36928     \n",
            "_________________________________________________________________\n",
            "batch_normalization_25 (Batc (None, 32, 32, 64)        256       \n",
            "_________________________________________________________________\n",
            "conv2d_23 (Conv2D)           (None, 16, 16, 64)        102464    \n",
            "_________________________________________________________________\n",
            "batch_normalization_26 (Batc (None, 16, 16, 64)        256       \n",
            "_________________________________________________________________\n",
            "conv2d_24 (Conv2D)           (None, 16, 16, 128)       73856     \n",
            "_________________________________________________________________\n",
            "batch_normalization_27 (Batc (None, 16, 16, 128)       512       \n",
            "_________________________________________________________________\n",
            "conv2d_25 (Conv2D)           (None, 16, 16, 128)       147584    \n",
            "_________________________________________________________________\n",
            "batch_normalization_28 (Batc (None, 16, 16, 128)       512       \n",
            "_________________________________________________________________\n",
            "conv2d_26 (Conv2D)           (None, 8, 8, 128)         409728    \n",
            "_________________________________________________________________\n",
            "batch_normalization_29 (Batc (None, 8, 8, 128)         512       \n",
            "_________________________________________________________________\n",
            "conv2d_27 (Conv2D)           (None, 8, 8, 256)         524544    \n",
            "_________________________________________________________________\n",
            "batch_normalization_30 (Batc (None, 8, 8, 256)         1024      \n",
            "_________________________________________________________________\n",
            "flatten_3 (Flatten)          (None, 16384)             0         \n",
            "_________________________________________________________________\n",
            "batch_normalization_31 (Batc (None, 16384)             65536     \n",
            "_________________________________________________________________\n",
            "dropout_3 (Dropout)          (None, 16384)             0         \n",
            "_________________________________________________________________\n",
            "dense_3 (Dense)              (None, 100)               1638500   \n",
            "=================================================================\n",
            "Total params: 3,004,260\n",
            "Trainable params: 2,969,828\n",
            "Non-trainable params: 34,432\n",
            "_________________________________________________________________\n"
          ],
          "name": "stdout"
        }
      ]
    },
    {
      "cell_type": "code",
      "metadata": {
        "id": "q1lUbk5HaWdj",
        "colab_type": "code",
        "colab": {}
      },
      "source": [
        "from tensorflow.keras.preprocessing.image import ImageDataGenerator\n",
        "\n",
        "augmentor_cifar100 = ImageDataGenerator(rotation_range=10, height_shift_range=0.1, width_shift_range=0.1, horizontal_flip=True, validation_split=0.1)\n",
        "\n",
        "train_batch_cifar100 = augmentor_cifar100.flow(X_train_cifar100, Y_train_req_cifar100, shuffle=True, subset='training')\n",
        "val_batch_cifar100 = augmentor_cifar100.flow(X_train_cifar100, Y_train_req_cifar100, subset='validation')"
      ],
      "execution_count": 48,
      "outputs": []
    },
    {
      "cell_type": "code",
      "metadata": {
        "id": "-qK0KO9ga2kW",
        "colab_type": "code",
        "colab": {}
      },
      "source": [
        "from tensorflow.keras.optimizers import SGD\n",
        "\n",
        "opt = SGD(lr=0.001, momentum=0.9)\n",
        "\n",
        "model_cifar100.compile(loss='categorical_crossentropy', optimizer=opt, metrics=['accuracy'])"
      ],
      "execution_count": 49,
      "outputs": []
    },
    {
      "cell_type": "code",
      "metadata": {
        "id": "saJLJHkPa-NA",
        "colab_type": "code",
        "colab": {
          "base_uri": "https://localhost:8080/",
          "height": 1000
        },
        "outputId": "fbf3ff91-b65e-4f76-a103-d1e3636ab486"
      },
      "source": [
        "history_cifar100 = model_cifar100.fit_generator(train_batch_cifar100, validation_data=val_batch_cifar100, steps_per_epoch=(45000/32), epochs=200)"
      ],
      "execution_count": 50,
      "outputs": [
        {
          "output_type": "stream",
          "text": [
            "Epoch 1/200\n",
            "1407/1406 [==============================] - 30s 21ms/step - loss: 5.5816 - accuracy: 0.0907 - val_loss: 5.7018 - val_accuracy: 0.1306\n",
            "Epoch 2/200\n",
            "1407/1406 [==============================] - 30s 21ms/step - loss: 5.1007 - accuracy: 0.1552 - val_loss: 7.4249 - val_accuracy: 0.1626\n",
            "Epoch 3/200\n",
            "1407/1406 [==============================] - 29s 21ms/step - loss: 4.4832 - accuracy: 0.1920 - val_loss: 3.6405 - val_accuracy: 0.2138\n",
            "Epoch 4/200\n",
            "1407/1406 [==============================] - 30s 21ms/step - loss: 3.5466 - accuracy: 0.2357 - val_loss: 3.1897 - val_accuracy: 0.2726\n",
            "Epoch 5/200\n",
            "1407/1406 [==============================] - 30s 21ms/step - loss: 3.1529 - accuracy: 0.2796 - val_loss: 3.2168 - val_accuracy: 0.2916\n",
            "Epoch 6/200\n",
            "1407/1406 [==============================] - 29s 21ms/step - loss: 2.9076 - accuracy: 0.3145 - val_loss: 2.9323 - val_accuracy: 0.3128\n",
            "Epoch 7/200\n",
            "1407/1406 [==============================] - 30s 21ms/step - loss: 2.7670 - accuracy: 0.3384 - val_loss: 2.7312 - val_accuracy: 0.3446\n",
            "Epoch 8/200\n",
            "1407/1406 [==============================] - 30s 21ms/step - loss: 2.6308 - accuracy: 0.3604 - val_loss: 2.6225 - val_accuracy: 0.3738\n",
            "Epoch 9/200\n",
            "1407/1406 [==============================] - 30s 21ms/step - loss: 2.5271 - accuracy: 0.3786 - val_loss: 2.7582 - val_accuracy: 0.3526\n",
            "Epoch 10/200\n",
            "1407/1406 [==============================] - 30s 21ms/step - loss: 2.4473 - accuracy: 0.3946 - val_loss: 2.4382 - val_accuracy: 0.4002\n",
            "Epoch 11/200\n",
            "1407/1406 [==============================] - 29s 21ms/step - loss: 2.3516 - accuracy: 0.4154 - val_loss: 2.6565 - val_accuracy: 0.3972\n",
            "Epoch 12/200\n",
            "1407/1406 [==============================] - 29s 21ms/step - loss: 2.2865 - accuracy: 0.4266 - val_loss: 2.5195 - val_accuracy: 0.4050\n",
            "Epoch 13/200\n",
            "1407/1406 [==============================] - 30s 21ms/step - loss: 2.2390 - accuracy: 0.4328 - val_loss: 2.4110 - val_accuracy: 0.4248\n",
            "Epoch 14/200\n",
            "1407/1406 [==============================] - 30s 21ms/step - loss: 2.2015 - accuracy: 0.4460 - val_loss: 2.4295 - val_accuracy: 0.4346\n",
            "Epoch 15/200\n",
            "1407/1406 [==============================] - 30s 21ms/step - loss: 2.1436 - accuracy: 0.4556 - val_loss: 2.3118 - val_accuracy: 0.4430\n",
            "Epoch 16/200\n",
            "1407/1406 [==============================] - 30s 21ms/step - loss: 2.0833 - accuracy: 0.4657 - val_loss: 2.3271 - val_accuracy: 0.4526\n",
            "Epoch 17/200\n",
            "1407/1406 [==============================] - 30s 21ms/step - loss: 2.0412 - accuracy: 0.4763 - val_loss: 2.4448 - val_accuracy: 0.4336\n",
            "Epoch 18/200\n",
            "1407/1406 [==============================] - 30s 21ms/step - loss: 2.0120 - accuracy: 0.4830 - val_loss: 2.3863 - val_accuracy: 0.4400\n",
            "Epoch 19/200\n",
            "1407/1406 [==============================] - 30s 21ms/step - loss: 1.9755 - accuracy: 0.4920 - val_loss: 2.3000 - val_accuracy: 0.4628\n",
            "Epoch 20/200\n",
            "1407/1406 [==============================] - 30s 21ms/step - loss: 1.9409 - accuracy: 0.4970 - val_loss: 2.4040 - val_accuracy: 0.4572\n",
            "Epoch 21/200\n",
            "1407/1406 [==============================] - 30s 21ms/step - loss: 1.9147 - accuracy: 0.5059 - val_loss: 2.1737 - val_accuracy: 0.4760\n",
            "Epoch 22/200\n",
            "1407/1406 [==============================] - 29s 21ms/step - loss: 1.8704 - accuracy: 0.5141 - val_loss: 2.2140 - val_accuracy: 0.4848\n",
            "Epoch 23/200\n",
            "1407/1406 [==============================] - 29s 21ms/step - loss: 1.8586 - accuracy: 0.5172 - val_loss: 2.1990 - val_accuracy: 0.4784\n",
            "Epoch 24/200\n",
            "1407/1406 [==============================] - 30s 21ms/step - loss: 1.8306 - accuracy: 0.5218 - val_loss: 2.1708 - val_accuracy: 0.4828\n",
            "Epoch 25/200\n",
            "1407/1406 [==============================] - 29s 21ms/step - loss: 1.7896 - accuracy: 0.5275 - val_loss: 2.1726 - val_accuracy: 0.4756\n",
            "Epoch 26/200\n",
            "1407/1406 [==============================] - 29s 21ms/step - loss: 1.7825 - accuracy: 0.5280 - val_loss: 2.2902 - val_accuracy: 0.4826\n",
            "Epoch 27/200\n",
            "1407/1406 [==============================] - 29s 21ms/step - loss: 1.7471 - accuracy: 0.5382 - val_loss: 2.2077 - val_accuracy: 0.4880\n",
            "Epoch 28/200\n",
            "1407/1406 [==============================] - 29s 21ms/step - loss: 1.7129 - accuracy: 0.5422 - val_loss: 2.3382 - val_accuracy: 0.4874\n",
            "Epoch 29/200\n",
            "1407/1406 [==============================] - 29s 21ms/step - loss: 1.6891 - accuracy: 0.5490 - val_loss: 2.1421 - val_accuracy: 0.4852\n",
            "Epoch 30/200\n",
            "1407/1406 [==============================] - 30s 21ms/step - loss: 1.6565 - accuracy: 0.5575 - val_loss: 2.1151 - val_accuracy: 0.4944\n",
            "Epoch 31/200\n",
            "1407/1406 [==============================] - 30s 21ms/step - loss: 1.6305 - accuracy: 0.5639 - val_loss: 1.9700 - val_accuracy: 0.5198\n",
            "Epoch 32/200\n",
            "1407/1406 [==============================] - 30s 21ms/step - loss: 1.6245 - accuracy: 0.5671 - val_loss: 2.0179 - val_accuracy: 0.5112\n",
            "Epoch 33/200\n",
            "1407/1406 [==============================] - 29s 21ms/step - loss: 1.6051 - accuracy: 0.5681 - val_loss: 2.1536 - val_accuracy: 0.5098\n",
            "Epoch 34/200\n",
            "1407/1406 [==============================] - 30s 21ms/step - loss: 1.5884 - accuracy: 0.5735 - val_loss: 2.0673 - val_accuracy: 0.5054\n",
            "Epoch 35/200\n",
            "1407/1406 [==============================] - 30s 21ms/step - loss: 1.5747 - accuracy: 0.5770 - val_loss: 2.2207 - val_accuracy: 0.5100\n",
            "Epoch 36/200\n",
            "1407/1406 [==============================] - 30s 21ms/step - loss: 1.5548 - accuracy: 0.5786 - val_loss: 2.0935 - val_accuracy: 0.5152\n",
            "Epoch 37/200\n",
            "1407/1406 [==============================] - 30s 21ms/step - loss: 1.5340 - accuracy: 0.5856 - val_loss: 2.0700 - val_accuracy: 0.5084\n",
            "Epoch 38/200\n",
            "1407/1406 [==============================] - 29s 21ms/step - loss: 1.5202 - accuracy: 0.5892 - val_loss: 2.2013 - val_accuracy: 0.5144\n",
            "Epoch 39/200\n",
            "1407/1406 [==============================] - 29s 21ms/step - loss: 1.4906 - accuracy: 0.5949 - val_loss: 2.0980 - val_accuracy: 0.5186\n",
            "Epoch 40/200\n",
            "1407/1406 [==============================] - 30s 21ms/step - loss: 1.5008 - accuracy: 0.5938 - val_loss: 2.1359 - val_accuracy: 0.5264\n",
            "Epoch 41/200\n",
            "1407/1406 [==============================] - 30s 21ms/step - loss: 1.4787 - accuracy: 0.5973 - val_loss: 2.1386 - val_accuracy: 0.5172\n",
            "Epoch 42/200\n",
            "1407/1406 [==============================] - 30s 21ms/step - loss: 1.4718 - accuracy: 0.5987 - val_loss: 2.1009 - val_accuracy: 0.5266\n",
            "Epoch 43/200\n",
            "1407/1406 [==============================] - 30s 21ms/step - loss: 1.4405 - accuracy: 0.6064 - val_loss: 2.4355 - val_accuracy: 0.5088\n",
            "Epoch 44/200\n",
            "1407/1406 [==============================] - 30s 21ms/step - loss: 1.4415 - accuracy: 0.6040 - val_loss: 2.0842 - val_accuracy: 0.5286\n",
            "Epoch 45/200\n",
            "1407/1406 [==============================] - 30s 21ms/step - loss: 1.4165 - accuracy: 0.6118 - val_loss: 2.0340 - val_accuracy: 0.5252\n",
            "Epoch 46/200\n",
            "1407/1406 [==============================] - 30s 21ms/step - loss: 1.4006 - accuracy: 0.6121 - val_loss: 2.0007 - val_accuracy: 0.5306\n",
            "Epoch 47/200\n",
            "1407/1406 [==============================] - 29s 21ms/step - loss: 1.3875 - accuracy: 0.6178 - val_loss: 2.1326 - val_accuracy: 0.5318\n",
            "Epoch 48/200\n",
            "1407/1406 [==============================] - 30s 21ms/step - loss: 1.3631 - accuracy: 0.6250 - val_loss: 2.1154 - val_accuracy: 0.5324\n",
            "Epoch 49/200\n",
            "1407/1406 [==============================] - 29s 21ms/step - loss: 1.3551 - accuracy: 0.6275 - val_loss: 2.0811 - val_accuracy: 0.5218\n",
            "Epoch 50/200\n",
            "1407/1406 [==============================] - 30s 21ms/step - loss: 1.3570 - accuracy: 0.6242 - val_loss: 2.1505 - val_accuracy: 0.5128\n",
            "Epoch 51/200\n",
            "1407/1406 [==============================] - 30s 21ms/step - loss: 1.3310 - accuracy: 0.6303 - val_loss: 2.0770 - val_accuracy: 0.5364\n",
            "Epoch 52/200\n",
            "1407/1406 [==============================] - 30s 21ms/step - loss: 1.3010 - accuracy: 0.6360 - val_loss: 2.0519 - val_accuracy: 0.5310\n",
            "Epoch 53/200\n",
            "1407/1406 [==============================] - 30s 21ms/step - loss: 1.3093 - accuracy: 0.6361 - val_loss: 2.1089 - val_accuracy: 0.5374\n",
            "Epoch 54/200\n",
            "1407/1406 [==============================] - 30s 21ms/step - loss: 1.3084 - accuracy: 0.6376 - val_loss: 2.2943 - val_accuracy: 0.5366\n",
            "Epoch 55/200\n",
            "1407/1406 [==============================] - 30s 21ms/step - loss: 1.2776 - accuracy: 0.6426 - val_loss: 2.2240 - val_accuracy: 0.5272\n",
            "Epoch 56/200\n",
            "1407/1406 [==============================] - 30s 21ms/step - loss: 1.2876 - accuracy: 0.6402 - val_loss: 2.1065 - val_accuracy: 0.5430\n",
            "Epoch 57/200\n",
            "1407/1406 [==============================] - 30s 21ms/step - loss: 1.2645 - accuracy: 0.6453 - val_loss: 2.0418 - val_accuracy: 0.5458\n",
            "Epoch 58/200\n",
            "1407/1406 [==============================] - 30s 21ms/step - loss: 1.2481 - accuracy: 0.6504 - val_loss: 2.1081 - val_accuracy: 0.5390\n",
            "Epoch 59/200\n",
            "1407/1406 [==============================] - 30s 21ms/step - loss: 1.2474 - accuracy: 0.6478 - val_loss: 2.2810 - val_accuracy: 0.5318\n",
            "Epoch 60/200\n",
            "1407/1406 [==============================] - 30s 21ms/step - loss: 1.2429 - accuracy: 0.6515 - val_loss: 2.0409 - val_accuracy: 0.5390\n",
            "Epoch 61/200\n",
            "1407/1406 [==============================] - 29s 21ms/step - loss: 1.2393 - accuracy: 0.6516 - val_loss: 2.0858 - val_accuracy: 0.5468\n",
            "Epoch 62/200\n",
            "1407/1406 [==============================] - 30s 21ms/step - loss: 1.2221 - accuracy: 0.6547 - val_loss: 2.1496 - val_accuracy: 0.5240\n",
            "Epoch 63/200\n",
            "1407/1406 [==============================] - 29s 21ms/step - loss: 1.2273 - accuracy: 0.6542 - val_loss: 2.1128 - val_accuracy: 0.5398\n",
            "Epoch 64/200\n",
            "1407/1406 [==============================] - 30s 21ms/step - loss: 1.2029 - accuracy: 0.6621 - val_loss: 2.0166 - val_accuracy: 0.5556\n",
            "Epoch 65/200\n",
            "1407/1406 [==============================] - 30s 21ms/step - loss: 1.2062 - accuracy: 0.6636 - val_loss: 2.1108 - val_accuracy: 0.5466\n",
            "Epoch 66/200\n",
            "1407/1406 [==============================] - 29s 21ms/step - loss: 1.1696 - accuracy: 0.6687 - val_loss: 2.0669 - val_accuracy: 0.5476\n",
            "Epoch 67/200\n",
            "1407/1406 [==============================] - 29s 21ms/step - loss: 1.1643 - accuracy: 0.6705 - val_loss: 2.1048 - val_accuracy: 0.5480\n",
            "Epoch 68/200\n",
            "1407/1406 [==============================] - 29s 21ms/step - loss: 1.1622 - accuracy: 0.6724 - val_loss: 2.0470 - val_accuracy: 0.5586\n",
            "Epoch 69/200\n",
            "1407/1406 [==============================] - 29s 21ms/step - loss: 1.1412 - accuracy: 0.6763 - val_loss: 2.1104 - val_accuracy: 0.5560\n",
            "Epoch 70/200\n",
            "1407/1406 [==============================] - 29s 21ms/step - loss: 1.1367 - accuracy: 0.6773 - val_loss: 2.1205 - val_accuracy: 0.5548\n",
            "Epoch 71/200\n",
            "1407/1406 [==============================] - 29s 21ms/step - loss: 1.1309 - accuracy: 0.6795 - val_loss: 2.2470 - val_accuracy: 0.5446\n",
            "Epoch 72/200\n",
            "1407/1406 [==============================] - 30s 21ms/step - loss: 1.1288 - accuracy: 0.6772 - val_loss: 2.0649 - val_accuracy: 0.5596\n",
            "Epoch 73/200\n",
            "1407/1406 [==============================] - 30s 21ms/step - loss: 1.1159 - accuracy: 0.6810 - val_loss: 2.4152 - val_accuracy: 0.5400\n",
            "Epoch 74/200\n",
            "1407/1406 [==============================] - 29s 21ms/step - loss: 1.1162 - accuracy: 0.6841 - val_loss: 2.2128 - val_accuracy: 0.5456\n",
            "Epoch 75/200\n",
            "1407/1406 [==============================] - 29s 21ms/step - loss: 1.1087 - accuracy: 0.6864 - val_loss: 2.1805 - val_accuracy: 0.5444\n",
            "Epoch 76/200\n",
            "1407/1406 [==============================] - 30s 21ms/step - loss: 1.1005 - accuracy: 0.6885 - val_loss: 2.4425 - val_accuracy: 0.5402\n",
            "Epoch 77/200\n",
            "1407/1406 [==============================] - 29s 21ms/step - loss: 1.0999 - accuracy: 0.6849 - val_loss: 2.2051 - val_accuracy: 0.5434\n",
            "Epoch 78/200\n",
            "1407/1406 [==============================] - 30s 21ms/step - loss: 1.0605 - accuracy: 0.6965 - val_loss: 2.2538 - val_accuracy: 0.5498\n",
            "Epoch 79/200\n",
            "1407/1406 [==============================] - 29s 21ms/step - loss: 1.0654 - accuracy: 0.6942 - val_loss: 2.2829 - val_accuracy: 0.5496\n",
            "Epoch 80/200\n",
            "1407/1406 [==============================] - 29s 21ms/step - loss: 1.0597 - accuracy: 0.6964 - val_loss: 2.1301 - val_accuracy: 0.5506\n",
            "Epoch 81/200\n",
            "1407/1406 [==============================] - 29s 21ms/step - loss: 1.0500 - accuracy: 0.6970 - val_loss: 2.3107 - val_accuracy: 0.5498\n",
            "Epoch 82/200\n",
            "1407/1406 [==============================] - 29s 21ms/step - loss: 1.0421 - accuracy: 0.7001 - val_loss: 2.1511 - val_accuracy: 0.5634\n",
            "Epoch 83/200\n",
            "1407/1406 [==============================] - 30s 21ms/step - loss: 1.0388 - accuracy: 0.7007 - val_loss: 2.1793 - val_accuracy: 0.5616\n",
            "Epoch 84/200\n",
            "1407/1406 [==============================] - 30s 21ms/step - loss: 1.0417 - accuracy: 0.7024 - val_loss: 2.2559 - val_accuracy: 0.5562\n",
            "Epoch 85/200\n",
            "1407/1406 [==============================] - 29s 21ms/step - loss: 1.0338 - accuracy: 0.7036 - val_loss: 2.1307 - val_accuracy: 0.5584\n",
            "Epoch 86/200\n",
            "1407/1406 [==============================] - 30s 21ms/step - loss: 1.0295 - accuracy: 0.7037 - val_loss: 2.1935 - val_accuracy: 0.5642\n",
            "Epoch 87/200\n",
            "1407/1406 [==============================] - 30s 21ms/step - loss: 1.0177 - accuracy: 0.7055 - val_loss: 2.1689 - val_accuracy: 0.5620\n",
            "Epoch 88/200\n",
            "1407/1406 [==============================] - 30s 21ms/step - loss: 0.9935 - accuracy: 0.7118 - val_loss: 2.2562 - val_accuracy: 0.5546\n",
            "Epoch 89/200\n",
            "1407/1406 [==============================] - 30s 21ms/step - loss: 0.9906 - accuracy: 0.7137 - val_loss: 2.5276 - val_accuracy: 0.5414\n",
            "Epoch 90/200\n",
            "1407/1406 [==============================] - 30s 21ms/step - loss: 0.9906 - accuracy: 0.7144 - val_loss: 2.1614 - val_accuracy: 0.5662\n",
            "Epoch 91/200\n",
            "1407/1406 [==============================] - 30s 21ms/step - loss: 0.9819 - accuracy: 0.7164 - val_loss: 2.2017 - val_accuracy: 0.5576\n",
            "Epoch 92/200\n",
            "1407/1406 [==============================] - 30s 22ms/step - loss: 0.9873 - accuracy: 0.7125 - val_loss: 2.1460 - val_accuracy: 0.5658\n",
            "Epoch 93/200\n",
            "1407/1406 [==============================] - 30s 21ms/step - loss: 0.9701 - accuracy: 0.7164 - val_loss: 2.1432 - val_accuracy: 0.5636\n",
            "Epoch 94/200\n",
            "1407/1406 [==============================] - 30s 21ms/step - loss: 0.9584 - accuracy: 0.7194 - val_loss: 2.1558 - val_accuracy: 0.5608\n",
            "Epoch 95/200\n",
            "1407/1406 [==============================] - 30s 21ms/step - loss: 0.9509 - accuracy: 0.7207 - val_loss: 2.1465 - val_accuracy: 0.5654\n",
            "Epoch 96/200\n",
            "1407/1406 [==============================] - 31s 22ms/step - loss: 0.9582 - accuracy: 0.7224 - val_loss: 2.3187 - val_accuracy: 0.5626\n",
            "Epoch 97/200\n",
            "1407/1406 [==============================] - 30s 21ms/step - loss: 0.9554 - accuracy: 0.7220 - val_loss: 2.1380 - val_accuracy: 0.5684\n",
            "Epoch 98/200\n",
            "1407/1406 [==============================] - 30s 21ms/step - loss: 0.9463 - accuracy: 0.7251 - val_loss: 2.3818 - val_accuracy: 0.5606\n",
            "Epoch 99/200\n",
            "1407/1406 [==============================] - 30s 21ms/step - loss: 0.9426 - accuracy: 0.7252 - val_loss: 2.1432 - val_accuracy: 0.5746\n",
            "Epoch 100/200\n",
            "1407/1406 [==============================] - 30s 21ms/step - loss: 0.9340 - accuracy: 0.7283 - val_loss: 2.2717 - val_accuracy: 0.5622\n",
            "Epoch 101/200\n",
            "1407/1406 [==============================] - 30s 21ms/step - loss: 0.9281 - accuracy: 0.7312 - val_loss: 2.3099 - val_accuracy: 0.5528\n",
            "Epoch 102/200\n",
            "1407/1406 [==============================] - 30s 21ms/step - loss: 0.9264 - accuracy: 0.7302 - val_loss: 2.2440 - val_accuracy: 0.5674\n",
            "Epoch 103/200\n",
            "1407/1406 [==============================] - 30s 21ms/step - loss: 0.9148 - accuracy: 0.7315 - val_loss: 2.1797 - val_accuracy: 0.5644\n",
            "Epoch 104/200\n",
            "1407/1406 [==============================] - 30s 21ms/step - loss: 0.9109 - accuracy: 0.7307 - val_loss: 2.1277 - val_accuracy: 0.5658\n",
            "Epoch 105/200\n",
            "1407/1406 [==============================] - 30s 21ms/step - loss: 0.8960 - accuracy: 0.7381 - val_loss: 2.3041 - val_accuracy: 0.5688\n",
            "Epoch 106/200\n",
            "1407/1406 [==============================] - 30s 21ms/step - loss: 0.8960 - accuracy: 0.7380 - val_loss: 2.1443 - val_accuracy: 0.5740\n",
            "Epoch 107/200\n",
            "1407/1406 [==============================] - 30s 21ms/step - loss: 0.8943 - accuracy: 0.7389 - val_loss: 2.1471 - val_accuracy: 0.5732\n",
            "Epoch 108/200\n",
            "1407/1406 [==============================] - 30s 21ms/step - loss: 0.8838 - accuracy: 0.7403 - val_loss: 2.2174 - val_accuracy: 0.5700\n",
            "Epoch 109/200\n",
            "1407/1406 [==============================] - 30s 21ms/step - loss: 0.8679 - accuracy: 0.7439 - val_loss: 2.2294 - val_accuracy: 0.5750\n",
            "Epoch 110/200\n",
            "1407/1406 [==============================] - 30s 21ms/step - loss: 0.8724 - accuracy: 0.7430 - val_loss: 2.3170 - val_accuracy: 0.5688\n",
            "Epoch 111/200\n",
            "1407/1406 [==============================] - 30s 21ms/step - loss: 0.8658 - accuracy: 0.7469 - val_loss: 2.3349 - val_accuracy: 0.5636\n",
            "Epoch 112/200\n",
            "1407/1406 [==============================] - 29s 21ms/step - loss: 0.8638 - accuracy: 0.7446 - val_loss: 2.2568 - val_accuracy: 0.5712\n",
            "Epoch 113/200\n",
            "1407/1406 [==============================] - 30s 21ms/step - loss: 0.8566 - accuracy: 0.7468 - val_loss: 2.2095 - val_accuracy: 0.5644\n",
            "Epoch 114/200\n",
            "1407/1406 [==============================] - 30s 21ms/step - loss: 0.8501 - accuracy: 0.7459 - val_loss: 2.2528 - val_accuracy: 0.5768\n",
            "Epoch 115/200\n",
            "1407/1406 [==============================] - 29s 21ms/step - loss: 0.8479 - accuracy: 0.7487 - val_loss: 2.3523 - val_accuracy: 0.5678\n",
            "Epoch 116/200\n",
            "1407/1406 [==============================] - 30s 21ms/step - loss: 0.8436 - accuracy: 0.7490 - val_loss: 2.1587 - val_accuracy: 0.5748\n",
            "Epoch 117/200\n",
            "1407/1406 [==============================] - 30s 21ms/step - loss: 0.8394 - accuracy: 0.7526 - val_loss: 2.3419 - val_accuracy: 0.5504\n",
            "Epoch 118/200\n",
            "1407/1406 [==============================] - 30s 21ms/step - loss: 0.8406 - accuracy: 0.7489 - val_loss: 2.3067 - val_accuracy: 0.5694\n",
            "Epoch 119/200\n",
            "1407/1406 [==============================] - 29s 21ms/step - loss: 0.8329 - accuracy: 0.7540 - val_loss: 2.2621 - val_accuracy: 0.5652\n",
            "Epoch 120/200\n",
            "1407/1406 [==============================] - 30s 21ms/step - loss: 0.8141 - accuracy: 0.7582 - val_loss: 2.1661 - val_accuracy: 0.5772\n",
            "Epoch 121/200\n",
            "1407/1406 [==============================] - 30s 21ms/step - loss: 0.8139 - accuracy: 0.7590 - val_loss: 2.4359 - val_accuracy: 0.5694\n",
            "Epoch 122/200\n",
            "1407/1406 [==============================] - 29s 21ms/step - loss: 0.8181 - accuracy: 0.7582 - val_loss: 2.2276 - val_accuracy: 0.5738\n",
            "Epoch 123/200\n",
            "1407/1406 [==============================] - 29s 21ms/step - loss: 0.8129 - accuracy: 0.7568 - val_loss: 2.2757 - val_accuracy: 0.5740\n",
            "Epoch 124/200\n",
            "1407/1406 [==============================] - 30s 21ms/step - loss: 0.7986 - accuracy: 0.7598 - val_loss: 2.2398 - val_accuracy: 0.5824\n",
            "Epoch 125/200\n",
            "1407/1406 [==============================] - 30s 21ms/step - loss: 0.7888 - accuracy: 0.7626 - val_loss: 2.2169 - val_accuracy: 0.5738\n",
            "Epoch 126/200\n",
            "1407/1406 [==============================] - 29s 21ms/step - loss: 0.7873 - accuracy: 0.7629 - val_loss: 2.2605 - val_accuracy: 0.5820\n",
            "Epoch 127/200\n",
            "1407/1406 [==============================] - 30s 21ms/step - loss: 0.7812 - accuracy: 0.7658 - val_loss: 2.2471 - val_accuracy: 0.5644\n",
            "Epoch 128/200\n",
            "1407/1406 [==============================] - 30s 21ms/step - loss: 0.7815 - accuracy: 0.7652 - val_loss: 2.4594 - val_accuracy: 0.5696\n",
            "Epoch 129/200\n",
            "1407/1406 [==============================] - 29s 21ms/step - loss: 0.7831 - accuracy: 0.7674 - val_loss: 2.3304 - val_accuracy: 0.5776\n",
            "Epoch 130/200\n",
            "1407/1406 [==============================] - 29s 21ms/step - loss: 0.7850 - accuracy: 0.7673 - val_loss: 2.2864 - val_accuracy: 0.5824\n",
            "Epoch 131/200\n",
            "1407/1406 [==============================] - 29s 21ms/step - loss: 0.7807 - accuracy: 0.7670 - val_loss: 2.1792 - val_accuracy: 0.5796\n",
            "Epoch 132/200\n",
            "1407/1406 [==============================] - 29s 21ms/step - loss: 0.7697 - accuracy: 0.7723 - val_loss: 2.2574 - val_accuracy: 0.5664\n",
            "Epoch 133/200\n",
            "1407/1406 [==============================] - 29s 21ms/step - loss: 0.7661 - accuracy: 0.7695 - val_loss: 2.2076 - val_accuracy: 0.5850\n",
            "Epoch 134/200\n",
            "1407/1406 [==============================] - 29s 21ms/step - loss: 0.7696 - accuracy: 0.7695 - val_loss: 2.3830 - val_accuracy: 0.5730\n",
            "Epoch 135/200\n",
            "1407/1406 [==============================] - 30s 21ms/step - loss: 0.7493 - accuracy: 0.7742 - val_loss: 2.3149 - val_accuracy: 0.5712\n",
            "Epoch 136/200\n",
            "1407/1406 [==============================] - 29s 21ms/step - loss: 0.7443 - accuracy: 0.7762 - val_loss: 2.2411 - val_accuracy: 0.5772\n",
            "Epoch 137/200\n",
            "1407/1406 [==============================] - 30s 21ms/step - loss: 0.7451 - accuracy: 0.7758 - val_loss: 2.2701 - val_accuracy: 0.5754\n",
            "Epoch 138/200\n",
            "1407/1406 [==============================] - 30s 21ms/step - loss: 0.7525 - accuracy: 0.7731 - val_loss: 2.1312 - val_accuracy: 0.5790\n",
            "Epoch 139/200\n",
            "1407/1406 [==============================] - 29s 21ms/step - loss: 0.7755 - accuracy: 0.7690 - val_loss: 2.3462 - val_accuracy: 0.5700\n",
            "Epoch 140/200\n",
            "1407/1406 [==============================] - 29s 21ms/step - loss: 0.7583 - accuracy: 0.7737 - val_loss: 2.5141 - val_accuracy: 0.5650\n",
            "Epoch 141/200\n",
            "1407/1406 [==============================] - 29s 21ms/step - loss: 0.7434 - accuracy: 0.7766 - val_loss: 2.4581 - val_accuracy: 0.5720\n",
            "Epoch 142/200\n",
            "1407/1406 [==============================] - 29s 21ms/step - loss: 0.7447 - accuracy: 0.7764 - val_loss: 2.4118 - val_accuracy: 0.5764\n",
            "Epoch 143/200\n",
            "1407/1406 [==============================] - 29s 21ms/step - loss: 0.7329 - accuracy: 0.7782 - val_loss: 2.2556 - val_accuracy: 0.5798\n",
            "Epoch 144/200\n",
            "1407/1406 [==============================] - 29s 21ms/step - loss: 0.7321 - accuracy: 0.7798 - val_loss: 2.3308 - val_accuracy: 0.5812\n",
            "Epoch 145/200\n",
            "1407/1406 [==============================] - 29s 21ms/step - loss: 0.7080 - accuracy: 0.7851 - val_loss: 2.5314 - val_accuracy: 0.5738\n",
            "Epoch 146/200\n",
            "1407/1406 [==============================] - 30s 21ms/step - loss: 0.7176 - accuracy: 0.7820 - val_loss: 2.3307 - val_accuracy: 0.5756\n",
            "Epoch 147/200\n",
            "1407/1406 [==============================] - 29s 21ms/step - loss: 0.7015 - accuracy: 0.7852 - val_loss: 2.2876 - val_accuracy: 0.5716\n",
            "Epoch 148/200\n",
            "1407/1406 [==============================] - 30s 21ms/step - loss: 0.7089 - accuracy: 0.7856 - val_loss: 2.1889 - val_accuracy: 0.5836\n",
            "Epoch 149/200\n",
            "1407/1406 [==============================] - 29s 21ms/step - loss: 0.7062 - accuracy: 0.7855 - val_loss: 2.3107 - val_accuracy: 0.5802\n",
            "Epoch 150/200\n",
            "1407/1406 [==============================] - 29s 21ms/step - loss: 0.7056 - accuracy: 0.7887 - val_loss: 2.1514 - val_accuracy: 0.5938\n",
            "Epoch 151/200\n",
            "1407/1406 [==============================] - 29s 21ms/step - loss: 0.6962 - accuracy: 0.7877 - val_loss: 2.2503 - val_accuracy: 0.5762\n",
            "Epoch 152/200\n",
            "1407/1406 [==============================] - 29s 21ms/step - loss: 0.7038 - accuracy: 0.7873 - val_loss: 2.4272 - val_accuracy: 0.5780\n",
            "Epoch 153/200\n",
            "1407/1406 [==============================] - 29s 21ms/step - loss: 0.6949 - accuracy: 0.7902 - val_loss: 2.2576 - val_accuracy: 0.5842\n",
            "Epoch 154/200\n",
            "1407/1406 [==============================] - 29s 21ms/step - loss: 0.6884 - accuracy: 0.7922 - val_loss: 2.4715 - val_accuracy: 0.5624\n",
            "Epoch 155/200\n",
            "1407/1406 [==============================] - 29s 21ms/step - loss: 0.7002 - accuracy: 0.7887 - val_loss: 2.4215 - val_accuracy: 0.5776\n",
            "Epoch 156/200\n",
            "1407/1406 [==============================] - 30s 21ms/step - loss: 0.6811 - accuracy: 0.7929 - val_loss: 2.2833 - val_accuracy: 0.5844\n",
            "Epoch 157/200\n",
            "1407/1406 [==============================] - 30s 21ms/step - loss: 0.6774 - accuracy: 0.7954 - val_loss: 2.3558 - val_accuracy: 0.5778\n",
            "Epoch 158/200\n",
            "1407/1406 [==============================] - 29s 21ms/step - loss: 0.6714 - accuracy: 0.7970 - val_loss: 2.5916 - val_accuracy: 0.5772\n",
            "Epoch 159/200\n",
            "1407/1406 [==============================] - 29s 21ms/step - loss: 0.6774 - accuracy: 0.7941 - val_loss: 2.4583 - val_accuracy: 0.5736\n",
            "Epoch 160/200\n",
            "1407/1406 [==============================] - 29s 21ms/step - loss: 0.6747 - accuracy: 0.7956 - val_loss: 2.4404 - val_accuracy: 0.5732\n",
            "Epoch 161/200\n",
            "1407/1406 [==============================] - 29s 21ms/step - loss: 0.6671 - accuracy: 0.7968 - val_loss: 2.2786 - val_accuracy: 0.5850\n",
            "Epoch 162/200\n",
            "1407/1406 [==============================] - 30s 21ms/step - loss: 0.6649 - accuracy: 0.7992 - val_loss: 2.1832 - val_accuracy: 0.5858\n",
            "Epoch 163/200\n",
            "1407/1406 [==============================] - 29s 21ms/step - loss: 0.6713 - accuracy: 0.7938 - val_loss: 2.2283 - val_accuracy: 0.5832\n",
            "Epoch 164/200\n",
            "1407/1406 [==============================] - 29s 21ms/step - loss: 0.6607 - accuracy: 0.7989 - val_loss: 2.2087 - val_accuracy: 0.5874\n",
            "Epoch 165/200\n",
            "1407/1406 [==============================] - 30s 21ms/step - loss: 0.6646 - accuracy: 0.7965 - val_loss: 2.3246 - val_accuracy: 0.5726\n",
            "Epoch 166/200\n",
            "1407/1406 [==============================] - 29s 21ms/step - loss: 0.6518 - accuracy: 0.8024 - val_loss: 2.3325 - val_accuracy: 0.5888\n",
            "Epoch 167/200\n",
            "1407/1406 [==============================] - 30s 21ms/step - loss: 0.6587 - accuracy: 0.7997 - val_loss: 2.3437 - val_accuracy: 0.5860\n",
            "Epoch 168/200\n",
            "1407/1406 [==============================] - 30s 21ms/step - loss: 0.6482 - accuracy: 0.8039 - val_loss: 2.3854 - val_accuracy: 0.5858\n",
            "Epoch 169/200\n",
            "1407/1406 [==============================] - 30s 21ms/step - loss: 0.6375 - accuracy: 0.8043 - val_loss: 2.3328 - val_accuracy: 0.5808\n",
            "Epoch 170/200\n",
            "1407/1406 [==============================] - 30s 21ms/step - loss: 0.6382 - accuracy: 0.8062 - val_loss: 2.3486 - val_accuracy: 0.5868\n",
            "Epoch 171/200\n",
            "1407/1406 [==============================] - 29s 21ms/step - loss: 0.6412 - accuracy: 0.8052 - val_loss: 2.3996 - val_accuracy: 0.5804\n",
            "Epoch 172/200\n",
            "1407/1406 [==============================] - 29s 21ms/step - loss: 0.6367 - accuracy: 0.8062 - val_loss: 2.4983 - val_accuracy: 0.5674\n",
            "Epoch 173/200\n",
            "1407/1406 [==============================] - 30s 21ms/step - loss: 0.6350 - accuracy: 0.8063 - val_loss: 2.4868 - val_accuracy: 0.5704\n",
            "Epoch 174/200\n",
            "1407/1406 [==============================] - 29s 21ms/step - loss: 0.6222 - accuracy: 0.8096 - val_loss: 2.2874 - val_accuracy: 0.5838\n",
            "Epoch 175/200\n",
            "1407/1406 [==============================] - 30s 21ms/step - loss: 0.6323 - accuracy: 0.8082 - val_loss: 2.2901 - val_accuracy: 0.5868\n",
            "Epoch 176/200\n",
            "1407/1406 [==============================] - 30s 21ms/step - loss: 0.6159 - accuracy: 0.8099 - val_loss: 2.4280 - val_accuracy: 0.5732\n",
            "Epoch 177/200\n",
            "1407/1406 [==============================] - 30s 21ms/step - loss: 0.6210 - accuracy: 0.8102 - val_loss: 2.4252 - val_accuracy: 0.5852\n",
            "Epoch 178/200\n",
            "1407/1406 [==============================] - 30s 21ms/step - loss: 0.6238 - accuracy: 0.8096 - val_loss: 2.3272 - val_accuracy: 0.5820\n",
            "Epoch 179/200\n",
            "1407/1406 [==============================] - 30s 21ms/step - loss: 0.6223 - accuracy: 0.8092 - val_loss: 2.2920 - val_accuracy: 0.5860\n",
            "Epoch 180/200\n",
            "1407/1406 [==============================] - 29s 21ms/step - loss: 0.6167 - accuracy: 0.8099 - val_loss: 2.3920 - val_accuracy: 0.5902\n",
            "Epoch 181/200\n",
            "1407/1406 [==============================] - 30s 21ms/step - loss: 0.6137 - accuracy: 0.8127 - val_loss: 2.3627 - val_accuracy: 0.5934\n",
            "Epoch 182/200\n",
            "1407/1406 [==============================] - 29s 21ms/step - loss: 0.6097 - accuracy: 0.8128 - val_loss: 2.4687 - val_accuracy: 0.5868\n",
            "Epoch 183/200\n",
            "1407/1406 [==============================] - 29s 21ms/step - loss: 0.6063 - accuracy: 0.8122 - val_loss: 2.3647 - val_accuracy: 0.5890\n",
            "Epoch 184/200\n",
            "1407/1406 [==============================] - 30s 21ms/step - loss: 0.5987 - accuracy: 0.8159 - val_loss: 2.3208 - val_accuracy: 0.5864\n",
            "Epoch 185/200\n",
            "1407/1406 [==============================] - 29s 21ms/step - loss: 0.6077 - accuracy: 0.8115 - val_loss: 2.2117 - val_accuracy: 0.5964\n",
            "Epoch 186/200\n",
            "1407/1406 [==============================] - 29s 21ms/step - loss: 0.5896 - accuracy: 0.8184 - val_loss: 2.5046 - val_accuracy: 0.5658\n",
            "Epoch 187/200\n",
            "1407/1406 [==============================] - 30s 21ms/step - loss: 0.5918 - accuracy: 0.8185 - val_loss: 2.3742 - val_accuracy: 0.5848\n",
            "Epoch 188/200\n",
            "1407/1406 [==============================] - 30s 21ms/step - loss: 0.5996 - accuracy: 0.8125 - val_loss: 2.5347 - val_accuracy: 0.5706\n",
            "Epoch 189/200\n",
            "1407/1406 [==============================] - 30s 21ms/step - loss: 0.5833 - accuracy: 0.8189 - val_loss: 2.3573 - val_accuracy: 0.5878\n",
            "Epoch 190/200\n",
            "1407/1406 [==============================] - 29s 21ms/step - loss: 0.5724 - accuracy: 0.8252 - val_loss: 2.2492 - val_accuracy: 0.5808\n",
            "Epoch 191/200\n",
            "1407/1406 [==============================] - 29s 21ms/step - loss: 0.5731 - accuracy: 0.8220 - val_loss: 2.4231 - val_accuracy: 0.5814\n",
            "Epoch 192/200\n",
            "1407/1406 [==============================] - 29s 21ms/step - loss: 0.5772 - accuracy: 0.8211 - val_loss: 2.4136 - val_accuracy: 0.5872\n",
            "Epoch 193/200\n",
            "1407/1406 [==============================] - 29s 21ms/step - loss: 0.5635 - accuracy: 0.8250 - val_loss: 2.5561 - val_accuracy: 0.5802\n",
            "Epoch 194/200\n",
            "1407/1406 [==============================] - 29s 21ms/step - loss: 0.5686 - accuracy: 0.8234 - val_loss: 2.4756 - val_accuracy: 0.5828\n",
            "Epoch 195/200\n",
            "1407/1406 [==============================] - 29s 21ms/step - loss: 0.5805 - accuracy: 0.8205 - val_loss: 2.3056 - val_accuracy: 0.5982\n",
            "Epoch 196/200\n",
            "1407/1406 [==============================] - 29s 21ms/step - loss: 0.5652 - accuracy: 0.8258 - val_loss: 2.4230 - val_accuracy: 0.5870\n",
            "Epoch 197/200\n",
            "1407/1406 [==============================] - 29s 21ms/step - loss: 0.5681 - accuracy: 0.8236 - val_loss: 2.4054 - val_accuracy: 0.5798\n",
            "Epoch 198/200\n",
            "1407/1406 [==============================] - 30s 21ms/step - loss: 0.5573 - accuracy: 0.8264 - val_loss: 2.5166 - val_accuracy: 0.5798\n",
            "Epoch 199/200\n",
            "1407/1406 [==============================] - 29s 21ms/step - loss: 0.5657 - accuracy: 0.8237 - val_loss: 2.4812 - val_accuracy: 0.5900\n",
            "Epoch 200/200\n",
            "1407/1406 [==============================] - 30s 21ms/step - loss: 0.5704 - accuracy: 0.8219 - val_loss: 2.4051 - val_accuracy: 0.5902\n"
          ],
          "name": "stdout"
        }
      ]
    },
    {
      "cell_type": "code",
      "metadata": {
        "id": "d3kNYmTDbWWB",
        "colab_type": "code",
        "colab": {
          "base_uri": "https://localhost:8080/",
          "height": 265
        },
        "outputId": "0b2d081d-40cd-44b8-c7cc-f485b847ad16"
      },
      "source": [
        "plt.plot(history_cifar100.history['loss'])\n",
        "plt.plot(history_cifar100.history['val_loss'])\n",
        "plt.legend(['Training Loss', 'Validation Loss'], loc='best')\n",
        "plt.show()"
      ],
      "execution_count": 51,
      "outputs": [
        {
          "output_type": "display_data",
          "data": {
            "image/png": "[encoded data removed]",
            "text/plain": [
              "<Figure size 432x288 with 1 Axes>"
            ]
          },
          "metadata": {
            "tags": [],
            "needs_background": "light"
          }
        }
      ]
    },
    {
      "cell_type": "code",
      "metadata": {
        "id": "QjN9r3JBbhZJ",
        "colab_type": "code",
        "colab": {
          "base_uri": "https://localhost:8080/",
          "height": 265
        },
        "outputId": "69d93005-7104-4967-c2ba-a2261dbb6d11"
      },
      "source": [
        "plt.plot(history_cifar100.history['accuracy'])\n",
        "plt.plot(history_cifar100.history['val_accuracy'])\n",
        "plt.legend(['Training Accuracy', 'Validation Accuracy'], loc='best')\n",
        "plt.show()"
      ],
      "execution_count": 52,
      "outputs": [
        {
          "output_type": "display_data",
          "data": {
            "image/png": "[encoded data removed]",
            "text/plain": [
              "<Figure size 432x288 with 1 Axes>"
            ]
          },
          "metadata": {
            "tags": [],
            "needs_background": "light"
          }
        }
      ]
    },
    {
      "cell_type": "code",
      "metadata": {
        "id": "ue-jWqDbbmHQ",
        "colab_type": "code",
        "colab": {
          "base_uri": "https://localhost:8080/",
          "height": 50
        },
        "outputId": "fe87e4bf-070f-4c94-e962-590ef190142e"
      },
      "source": [
        "model_cifar100.evaluate(X_test_cifar100, Y_test_req_cifar100)"
      ],
      "execution_count": 53,
      "outputs": [
        {
          "output_type": "stream",
          "text": [
            "313/313 [==============================] - 2s 6ms/step - loss: 2.6947 - accuracy: 0.5972\n"
          ],
          "name": "stdout"
        },
        {
          "output_type": "execute_result",
          "data": {
            "text/plain": [
              "[2.6947216987609863, 0.5971999764442444]"
            ]
          },
          "metadata": {
            "tags": []
          },
          "execution_count": 53
        }
      ]
    },
    {
      "cell_type": "code",
      "metadata": {
        "id": "JUHqvOX1bpim",
        "colab_type": "code",
        "colab": {}
      },
      "source": [
        ""
      ],
      "execution_count": null,
      "outputs": []
    }
  ]
}